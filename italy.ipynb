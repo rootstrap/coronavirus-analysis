{
 "cells": [
  {
   "cell_type": "code",
   "execution_count": null,
   "metadata": {},
   "outputs": [],
   "source": [
    "## Italy\n",
    "- https://www.kaggle.com/sudalairajkumar/covid19-in-italy"
   ]
  },
  {
   "cell_type": "code",
   "execution_count": null,
   "metadata": {},
   "outputs": [],
   "source": [
    "df_italy = pd.read_csv(local_dir + 'covid19-in-italy/covid19_italy_region.csv')\n",
    "\n",
    "df_italy['Date'] = pd.to_datetime(df_italy['Date'])\n",
    "df_italy['year'] = df_italy['Date'].dt.year\n",
    "df_italy['month'] = df_italy['Date'].dt.month\n",
    "df_italy['day'] = df_italy['Date'].dt.day\n",
    "\n",
    "df_italy.drop(['SNo','Date','Country'], axis=1, inplace=True)\n",
    "df_italy = df_italy.groupby(['year','month','day']).sum().reset_index()\n",
    "df_italy.head()"
   ]
  }
 ],
 "metadata": {
  "hide_input": false,
  "kernelspec": {
   "display_name": "Python 3",
   "language": "python",
   "name": "python3"
  },
  "language_info": {
   "codemirror_mode": {
    "name": "ipython",
    "version": 3
   },
   "file_extension": ".py",
   "mimetype": "text/x-python",
   "name": "python",
   "nbconvert_exporter": "python",
   "pygments_lexer": "ipython3",
   "version": "3.6.9"
  },
  "toc": {
   "base_numbering": 1,
   "nav_menu": {},
   "number_sections": true,
   "sideBar": true,
   "skip_h1_title": false,
   "title_cell": "Table of Contents",
   "title_sidebar": "Contents",
   "toc_cell": false,
   "toc_position": {},
   "toc_section_display": true,
   "toc_window_display": false
  }
 },
 "nbformat": 4,
 "nbformat_minor": 4
}
