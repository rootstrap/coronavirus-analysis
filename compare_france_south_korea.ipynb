{
 "cells": [
  {
   "cell_type": "markdown",
   "metadata": {},
   "source": [
    "# Clustering analysis\n",
    "\n",
    "There are two datasets that have similar information for France and South Korea, respectively. So, the idea is to merge those datasets and see if we can find clusters. \n",
    "\n",
    "You can find the links to the data here: \n",
    "- France: https://www.kaggle.com/lperez/coronavirus-france-dataset\n",
    "- South Korea: https://www.kaggle.com/kimjihoo/coronavirusdataset"
   ]
  },
  {
   "cell_type": "code",
   "execution_count": 1,
   "metadata": {},
   "outputs": [],
   "source": [
    "import pandas as pd\n",
    "import numpy as np\n",
    "import random\n",
    "from sklearn import preprocessing\n",
    "from sklearn.cluster import KMeans\n",
    "import matplotlib.pyplot as plt\n",
    "from kneed import KneeLocator\n",
    "import geopandas\n",
    "from matplotlib import cm\n",
    "from mpl_toolkits.mplot3d import Axes3D"
   ]
  },
  {
   "cell_type": "markdown",
   "metadata": {},
   "source": [
    "## Load the data and check missing values\n",
    "Let's load the data for both datasets and see how many NAs values it has. NAs values correspond to missing or empty information. Decisions should be made for each particular column to prepare the data for the analysis. "
   ]
  },
  {
   "cell_type": "code",
   "execution_count": 2,
   "metadata": {},
   "outputs": [],
   "source": [
    "def load_data(data_path):\n",
    "    df = pd.read_csv(data_path + '/patient.csv')\n",
    "    df['released_date'] = pd.to_datetime(df['released_date'])\n",
    "    df['confirmed_date'] = pd.to_datetime(df['confirmed_date'])\n",
    "    df['month'] = df['confirmed_date'].dt.month\n",
    "    df['day'] = df['confirmed_date'].dt.day\n",
    "    return df"
   ]
  },
  {
   "cell_type": "code",
   "execution_count": 3,
   "metadata": {},
   "outputs": [
    {
     "data": {
      "text/plain": [
       "id                  2067\n",
       "sex                 1851\n",
       "birth_year          1936\n",
       "country                1\n",
       "region                 1\n",
       "departement          195\n",
       "city                1804\n",
       "group               1905\n",
       "infection_reason    1906\n",
       "infection_order     2068\n",
       "infected_by         2056\n",
       "contact_number      2073\n",
       "confirmed_date         4\n",
       "released_date       2064\n",
       "deceased_date       2048\n",
       "status              1481\n",
       "health              1849\n",
       "source               199\n",
       "comments            1637\n",
       "month                  4\n",
       "day                    4\n",
       "dtype: int64"
      ]
     },
     "execution_count": 3,
     "metadata": {},
     "output_type": "execute_result"
    }
   ],
   "source": [
    "df_france = load_data('coronavirusdataset_france')\n",
    "df_france.isnull().sum()"
   ]
  },
  {
   "cell_type": "code",
   "execution_count": 4,
   "metadata": {},
   "outputs": [
    {
     "data": {
      "text/plain": [
       "patient_id             0\n",
       "sex                 7190\n",
       "birth_year          7203\n",
       "country                0\n",
       "region              7432\n",
       "disease             7841\n",
       "group               7783\n",
       "infection_reason    7715\n",
       "infection_order     7833\n",
       "infected_by         7799\n",
       "contact_number      7816\n",
       "confirmed_date         0\n",
       "released_date       7813\n",
       "deceased_date       7833\n",
       "state                  0\n",
       "month                  0\n",
       "day                    0\n",
       "dtype: int64"
      ]
     },
     "execution_count": 4,
     "metadata": {},
     "output_type": "execute_result"
    }
   ],
   "source": [
    "df_south_korea = load_data('coronavirusdataset_south_korea')\n",
    "df_south_korea.isnull().sum()"
   ]
  },
  {
   "cell_type": "markdown",
   "metadata": {},
   "source": [
    "## Resolve missing values\n",
    "\n",
    "- With the objective of keeping the necessary data, some of the columns are removed such as department, comments, health considered not important for the analysis. \n",
    "- From the birth date, we can create the age variable, subtracting it to the actual date. The missing information will be filled with random numbers drawn from a distribution. The information related to the age distribution of the population can be found:     \n",
    " *France:* https://www.indexmundi.com/france/demographics_profile.html  \n",
    " *South Korea:* https://www.indexmundi.com/south_korea/demographics_profile.html\n",
    " \n",
    "So, the 'simulate_age' function is created in order to simulate the population's age based on the available data. \n",
    " "
   ]
  },
  {
   "cell_type": "code",
   "execution_count": 5,
   "metadata": {},
   "outputs": [],
   "source": [
    "df_france.drop(['departement','region','comments', 'id', 'infected_by','health','city','source'],axis=1,inplace=True)\n",
    "df_south_korea.drop(['region','disease','patient_id','infected_by'], axis=1, inplace=True)"
   ]
  },
  {
   "cell_type": "code",
   "execution_count": 6,
   "metadata": {},
   "outputs": [],
   "source": [
    "def simulate_age(ranges, percents, total_pop):\n",
    "    simulated_pop = np.array(0)\n",
    "    for (low, high), percent in zip(ranges, percents):\n",
    "        simulated_pop = np.append(simulated_pop, \n",
    "                  np.random.randint(low=low, high=high, size=int(total_pop*percent/100)))\n",
    "    return simulated_pop"
   ]
  },
  {
   "cell_type": "code",
   "execution_count": 7,
   "metadata": {},
   "outputs": [
    {
     "data": {
      "image/png": "[encoded data removed]",
      "text/plain": [
       "<Figure size 1080x360 with 2 Axes>"
      ]
     },
     "metadata": {
      "needs_background": "light"
     },
     "output_type": "display_data"
    }
   ],
   "source": [
    "#France\n",
    "france_population = 67364357\n",
    "\n",
    "'''\n",
    "0-14 years: 18.48% \n",
    "15-24 years: 11.8% \n",
    "25-54 years: 37.48% \n",
    "55-64 years: 12.42%\n",
    "65 years and over: 19.82%\n",
    "'''\n",
    "ranges = [(0,14),(15,24),(25,54),(55,64),(65,90)]\n",
    "percents = [18.48,11.8,37.48,12.42,19.82]\n",
    "france_simulated_pop = simulate_age(ranges, percents, france_population)\n",
    "\n",
    "f, (ax1, ax2) = plt.subplots(1, 2, figsize=(15,5))\n",
    "ax1.hist(france_simulated_pop,bins=20, color='mediumaquamarine', edgecolor='k', alpha=0.5)\n",
    "ax1.set_title('France - Simulated age distribution')\n",
    "\n",
    "#South Korea\n",
    "south_korea_population = 51418097\n",
    "\n",
    "'''\n",
    "0-14 years: 13.03% \n",
    "15-24 years: 12.19%\n",
    "25-54 years: 45.13%\n",
    "55-64 years: 15.09% \n",
    "65 years and over: 14.55% \n",
    "'''\n",
    "percents = [13.03,12.19,45.13,15.09,14.55]\n",
    "south_korea_simulated_pop = simulate_age(ranges, percents, south_korea_population)\n",
    "\n",
    "ax2.hist(south_korea_simulated_pop,bins=20, color='mediumaquamarine', edgecolor='k', alpha=0.5)\n",
    "ax2.set_title('South Korea - Simulated age distribution')\n",
    "plt.show()"
   ]
  },
  {
   "cell_type": "markdown",
   "metadata": {},
   "source": [
    "Now, let's create the age column, and fill the missing values with a random value chosen from the distributions that we just simulated."
   ]
  },
  {
   "cell_type": "code",
   "execution_count": 8,
   "metadata": {},
   "outputs": [],
   "source": [
    "import math\n",
    "actual_year = pd.to_datetime('today').year\n",
    "def calculate_age(x):\n",
    "    if math.isnan(x):\n",
    "        return x\n",
    "    else:\n",
    "        return int(actual_year - x)\n",
    "\n",
    "#France\n",
    "df_france['age'] = df_france['birth_year'].apply(calculate_age)\n",
    "df_france.fillna({'age':int(random.choice(france_simulated_pop))}, inplace=True)\n",
    "df_france.drop(['birth_year'], axis=1, inplace=True)\n",
    "\n",
    "#South Korea\n",
    "df_south_korea['age'] = df_south_korea['birth_year'].apply(calculate_age)\n",
    "df_south_korea.fillna({'age':int(random.choice(south_korea_simulated_pop))}, inplace=True)\n",
    "df_south_korea.drop(['birth_year'], axis=1, inplace=True)"
   ]
  },
  {
   "cell_type": "markdown",
   "metadata": {},
   "source": [
    "For sex missing values, we can draw a random number with a value of probability based on the sex ratio for each population."
   ]
  },
  {
   "cell_type": "code",
   "execution_count": 9,
   "metadata": {},
   "outputs": [],
   "source": [
    "\n",
    "'''\n",
    "Considering m as men and w as women. \n",
    "m/w=ratio -> m=ration*w\n",
    "m+w=total_pop\n",
    "-> ratio*w +w=total_pop -> (ratio+1)*w=total_pop -> w=total_pop/(ratio+1)\n",
    "we should divide w by the total in order to get the probability of being women \n",
    "'''\n",
    "def calculate_values(ratio, total_pop):\n",
    "    w = (france_population/(1+ratio))/total_pop\n",
    "    m = 1 - w\n",
    "    return (w,m)\n",
    "\n",
    "\n",
    "# France\n",
    "# total population: 0.96 male(s)/female (2018 est.)\n",
    "w,m = calculate_values(0.96, france_population)\n",
    "#choice among 0 (woman) and 1 (man) with the calculated probabilities\n",
    "df_france['sex'] = df_france['sex'].str.lower()\n",
    "df_france[\"sex\"].replace({\"male\\xa0?\": \"male\"}, inplace=True)\n",
    "df_france.fillna({'sex': np.random.choice(['female','male'],p=[w,m])}, inplace=True)\n",
    "\n",
    "# South Korea\n",
    "# total population: 1 male(s)/female (2018 est.)\n",
    "w,m = calculate_values(1, south_korea_population)\n",
    "df_south_korea['sex'] = df_south_korea['sex'].str.lower()\n",
    "df_south_korea[\"sex\"].replace({\"male\\xa0?\": \"male\"}, inplace=True)\n",
    "df_south_korea.fillna({'sex': np.random.choice(['female','male'],p=[w,m])}, inplace=True)"
   ]
  },
  {
   "cell_type": "markdown",
   "metadata": {},
   "source": [
    "Since the status column for France's dataset and the state column for South Korea's dataset have the same meaning, we can rename the column for one of the datasets, and update the values to be the same categories."
   ]
  },
  {
   "cell_type": "code",
   "execution_count": 10,
   "metadata": {},
   "outputs": [],
   "source": [
    "df_france.rename({'status':'state'}, axis=1, inplace=True)\n",
    "df_france['state'] = df_france['state'].apply(lambda x: 'isolated' if (x=='hospital' or x=='home isolation') else x)"
   ]
  },
  {
   "cell_type": "markdown",
   "metadata": {},
   "source": [
    "- The values for the country variable that are empty will be filled with France or South Korea, respectively.\n",
    "- A new category 'Unknown' will be created for infection_reason, group, status variables\n",
    "- A new category for infection_order is added with code 0 \n",
    "- The empty values for contact number will be filled with 0 "
   ]
  },
  {
   "cell_type": "code",
   "execution_count": 11,
   "metadata": {},
   "outputs": [],
   "source": [
    "df_france.fillna({'country':'France','infection_reason':'Unkown','group':'Unkown', \n",
    "                  'state':'Unknown','infection_order':0, 'contact_number':0} ,\n",
    "                 inplace=True)\n",
    "\n",
    "df_south_korea.fillna({'infection_reason':'Unkown','group':'Unkown', \n",
    "                       'infection_order':0, 'contact_number':0, \n",
    "                       'state':'Unknown'} ,\n",
    "                 inplace=True)"
   ]
  },
  {
   "cell_type": "markdown",
   "metadata": {},
   "source": [
    "Let's check now which are the missing values that still  need to be resolved."
   ]
  },
  {
   "cell_type": "code",
   "execution_count": 12,
   "metadata": {},
   "outputs": [
    {
     "data": {
      "text/plain": [
       "sex                    0\n",
       "country                0\n",
       "group                  0\n",
       "infection_reason       0\n",
       "infection_order        0\n",
       "contact_number         0\n",
       "confirmed_date         4\n",
       "released_date       2064\n",
       "deceased_date       2048\n",
       "state                  0\n",
       "month                  4\n",
       "day                    4\n",
       "age                    0\n",
       "dtype: int64"
      ]
     },
     "execution_count": 12,
     "metadata": {},
     "output_type": "execute_result"
    }
   ],
   "source": [
    "df_france.isnull().sum()"
   ]
  },
  {
   "cell_type": "code",
   "execution_count": 13,
   "metadata": {},
   "outputs": [
    {
     "data": {
      "text/plain": [
       "sex                    0\n",
       "country                0\n",
       "group                  0\n",
       "infection_reason       0\n",
       "infection_order        0\n",
       "contact_number         0\n",
       "confirmed_date         0\n",
       "released_date       7813\n",
       "deceased_date       7833\n",
       "state                  0\n",
       "month                  0\n",
       "day                    0\n",
       "age                    0\n",
       "dtype: int64"
      ]
     },
     "execution_count": 13,
     "metadata": {},
     "output_type": "execute_result"
    }
   ],
   "source": [
    "df_south_korea.isnull().sum()"
   ]
  },
  {
   "cell_type": "markdown",
   "metadata": {},
   "source": [
    "Nice!, we don't have too much left. \n",
    "Now we need to resolve released_date and deceased_date empty values. \n",
    "- If released_date is empty, it means that the person still has the virus. \n",
    "- If deceased_date is empty, it means that the person did not die. \n",
    "\n",
    "So, we can calculate the infection duration in days and remove the other 3 variables.  \n",
    "And transform deceased_date to a binary column, indicated if the person died or not."
   ]
  },
  {
   "cell_type": "code",
   "execution_count": 14,
   "metadata": {},
   "outputs": [],
   "source": [
    "df_france['released_date'] = df_france[['released_date','deceased_date']].fillna(df_france['deceased_date'])\n",
    "df_france['released_date'] = df_france[['released_date']].fillna(pd.to_datetime('today'))\n",
    "df_france['infection_duration'] = pd.to_datetime(df_france['released_date']).sub(df_france['confirmed_date'], axis=0)\n",
    "df_france = df_france[df_france['infection_duration'].dt.days>=0]\n",
    "df_france['infection_duration'] = df_france['infection_duration'].dt.days\n",
    "df_france.drop(['released_date','confirmed_date','deceased_date'], axis=1, inplace=True)\n",
    "\n",
    "df_south_korea['released_date'] = df_south_korea[['released_date','deceased_date']].fillna(df_south_korea['deceased_date'])\n",
    "df_south_korea['released_date'] = df_south_korea[['released_date']].fillna(pd.to_datetime('today'))\n",
    "df_south_korea['infection_duration'] = pd.to_datetime(df_south_korea['released_date']).sub(df_south_korea['confirmed_date'], axis=0)\n",
    "df_south_korea = df_south_korea[df_south_korea['infection_duration'].dt.days>=0]\n",
    "df_south_korea['infection_duration'] = df_south_korea['infection_duration'].dt.days\n",
    "df_south_korea.drop(['released_date','confirmed_date','deceased_date'], axis=1, inplace=True)"
   ]
  },
  {
   "cell_type": "code",
   "execution_count": 15,
   "metadata": {},
   "outputs": [
    {
     "data": {
      "text/plain": [
       "Index(['sex', 'country', 'group', 'infection_reason', 'infection_order',\n",
       "       'contact_number', 'state', 'month', 'day', 'age', 'infection_duration'],\n",
       "      dtype='object')"
      ]
     },
     "execution_count": 15,
     "metadata": {},
     "output_type": "execute_result"
    }
   ],
   "source": [
    "df_france.columns"
   ]
  },
  {
   "cell_type": "code",
   "execution_count": 16,
   "metadata": {},
   "outputs": [
    {
     "data": {
      "text/plain": [
       "Index(['sex', 'country', 'group', 'infection_reason', 'infection_order',\n",
       "       'contact_number', 'state', 'month', 'day', 'age', 'infection_duration'],\n",
       "      dtype='object')"
      ]
     },
     "execution_count": 16,
     "metadata": {},
     "output_type": "execute_result"
    }
   ],
   "source": [
    "df_south_korea.columns"
   ]
  },
  {
   "cell_type": "markdown",
   "metadata": {},
   "source": [
    "## Data Fusion\n",
    "Finally, we are ready to put the two datasets together and start our analysis."
   ]
  },
  {
   "cell_type": "code",
   "execution_count": 17,
   "metadata": {},
   "outputs": [],
   "source": [
    "df = df_france.append(df_south_korea, sort=False)"
   ]
  },
  {
   "cell_type": "code",
   "execution_count": 18,
   "metadata": {},
   "outputs": [
    {
     "data": {
      "text/plain": [
       "sex                   0\n",
       "country               0\n",
       "group                 0\n",
       "infection_reason      0\n",
       "infection_order       0\n",
       "contact_number        0\n",
       "state                 0\n",
       "month                 0\n",
       "day                   0\n",
       "age                   0\n",
       "infection_duration    0\n",
       "dtype: int64"
      ]
     },
     "execution_count": 18,
     "metadata": {},
     "output_type": "execute_result"
    }
   ],
   "source": [
    "df.isnull().sum()"
   ]
  },
  {
   "cell_type": "markdown",
   "metadata": {},
   "source": [
    "## Transform to dummies the categorical variables"
   ]
  },
  {
   "cell_type": "code",
   "execution_count": 19,
   "metadata": {},
   "outputs": [],
   "source": [
    "df = pd.concat([df, pd.get_dummies(df['sex'])], axis=1)\n",
    "df = pd.concat([df, pd.get_dummies(df['country'])], axis=1)\n",
    "df = pd.concat([df, pd.get_dummies(df['state'], drop_first=True)], axis=1)\n",
    "df = pd.concat([df, pd.get_dummies(df['infection_reason'], drop_first=True)], axis=1)\n",
    "df = pd.concat([df, pd.get_dummies(df['group'], drop_first=True)], axis=1)"
   ]
  },
  {
   "cell_type": "markdown",
   "metadata": {},
   "source": [
    "## Dimension reduction\n",
    "\n",
    "Since we have too many variables, it is difficult to find the pattern among the clusters. \n",
    "So, first we can reduce the number of categorical variables by grouping similar categories. \n",
    "After, we can apply a dimension reduction technique to reduce the input variables and make the model easier to interpret. "
   ]
  },
  {
   "cell_type": "code",
   "execution_count": 20,
   "metadata": {},
   "outputs": [],
   "source": [
    "df = df_france.append(df_south_korea, sort=False)"
   ]
  },
  {
   "cell_type": "markdown",
   "metadata": {},
   "source": [
    "Transform infection_reason: let's list the possible values for this variable, and group them. The, transform to dummy variables. Drop one since it is implicit from the others. "
   ]
  },
  {
   "cell_type": "code",
   "execution_count": 21,
   "metadata": {},
   "outputs": [
    {
     "data": {
      "text/plain": [
       "array(['visit to Italy', 'contact with patient',\n",
       "       'visit to Mulhouse religious gathering', 'Unkown',\n",
       "       'contact with person who visited Italy', 'visit to Egypt',\n",
       "       'unknown', 'visit to Oise', 'visit to Germany',\n",
       "       'Visit to Venise, Italy', 'contact with patient in Auray',\n",
       "       'visit to Mulhouse', 'visit to Milan', 'Italian',\n",
       "       'visit to Lombardy', 'parishioner', 'Creil military base\\xa0?',\n",
       "       'visit to Senegal', 'visit to Alsace', 'visit in Lombardy',\n",
       "       'visit to Bretagne', 'Visit in Italy',\n",
       "       'In contact with someone contamitaminated in Oise',\n",
       "       'Religious Meeting in Mulhouse', 'work in a medical environment ',\n",
       "       'Visit family in Oise', 'health professional', 'visit to Wuhan',\n",
       "       'contact with patient in Japan', 'residence in Wuhan',\n",
       "       'visit to Thailand', 'contact with patient in Singapore',\n",
       "       'visit to China', 'visit to Daegu', 'pilgrimage to Israel',\n",
       "       'contact with patient in Daegu', 'visit to Vietnam',\n",
       "       'visit to Japan', 'visit to ooo'], dtype=object)"
      ]
     },
     "execution_count": 21,
     "metadata": {},
     "output_type": "execute_result"
    }
   ],
   "source": [
    "df.infection_reason.unique()"
   ]
  },
  {
   "cell_type": "code",
   "execution_count": 22,
   "metadata": {},
   "outputs": [],
   "source": [
    "def transform_reason(value):\n",
    "    if ('religious' in value or 'parishioner' in value):\n",
    "        return 'religious'\n",
    "    elif ('visit' in value or 'residence' in value):\n",
    "        return 'visit'\n",
    "    elif ('contact' in value):\n",
    "        return 'contact'\n",
    "    elif ('medical' in value or 'health professional' in value):\n",
    "        return 'medical'\n",
    "    elif ('militar' in value):\n",
    "        return 'militar'\n",
    "    elif ('italian' in value):\n",
    "        return 'italian'\n",
    "    elif ('pilgrimage' in value):\n",
    "        return 'pilgrimage'\n",
    "    else:\n",
    "        return 'unknown'\n",
    "\n",
    "df['infection_reason'] = df['infection_reason'].str.lower()\n",
    "df['infection_reason'] = df['infection_reason'].apply(transform_reason)  \n",
    "df = pd.concat([df, pd.get_dummies(df['infection_reason'], prefix='infection_reason', prefix_sep='_')], axis=1)\n",
    "df.drop(['infection_reason_unknown'], axis=1, inplace=True)"
   ]
  },
  {
   "cell_type": "markdown",
   "metadata": {},
   "source": [
    "Since the 'group' variable provides similar information to infection_reson, it will be removed. "
   ]
  },
  {
   "cell_type": "code",
   "execution_count": 23,
   "metadata": {},
   "outputs": [],
   "source": [
    "df.drop(['group'], axis=1, inplace=True)"
   ]
  },
  {
   "cell_type": "markdown",
   "metadata": {},
   "source": [
    "Let's transform the other categorical variables to dummies: country, state and sex."
   ]
  },
  {
   "cell_type": "code",
   "execution_count": 24,
   "metadata": {},
   "outputs": [],
   "source": [
    "df = pd.concat([df, pd.get_dummies(df['country'])], axis=1)\n",
    "df = pd.concat([df, pd.get_dummies(df['state'], prefix='state', prefix_sep='_')], axis=1)\n",
    "df = pd.concat([df, pd.get_dummies(df['sex'])], axis=1)"
   ]
  },
  {
   "cell_type": "markdown",
   "metadata": {},
   "source": [
    "### Principal Components Analysis (PCA)\n",
    "\n",
    "Now, we are going to prepare the data for the Principal Components Analysis (PCA). This technique finds a linear combination of the original variables that explains the data. The main objective is to reduce the amount of variables by finding new variables 'components'. It is based on orthogonal vectors, which makes those components to be uncorrelated. \n",
    "\n",
    "Thus, we need to define which variables are the input, we should remove the variables from which we have created the dummies variables since it is duplicated information.   \n",
    "\n",
    "After, it is necessary to scale the data, in order to do that we use StandarScaler. \n",
    "\n",
    "Then, the data is ready to apply PCA. "
   ]
  },
  {
   "cell_type": "code",
   "execution_count": 25,
   "metadata": {},
   "outputs": [
    {
     "data": {
      "text/plain": [
       "PCA(copy=True, iterated_power='auto', n_components=None, random_state=20,\n",
       "    svd_solver='auto', tol=0.0, whiten=False)"
      ]
     },
     "execution_count": 25,
     "metadata": {},
     "output_type": "execute_result"
    }
   ],
   "source": [
    "features = df.drop(['country','state','sex','infection_reason'], axis=1)\n",
    "from sklearn.preprocessing import StandardScaler\n",
    "from sklearn.decomposition import PCA\n",
    "x = StandardScaler().fit_transform(features.values)\n",
    "pca = PCA(random_state=20)\n",
    "pca.fit(x)"
   ]
  },
  {
   "cell_type": "markdown",
   "metadata": {},
   "source": [
    "\n",
    "In order to determine the number of components, we need to look at the explained variance by each of the components. The components are calculated  in a way that explain the largest variance. So, we would be adding components until we reach a defined threshold for the explained variance. Typically the used threshold is between 0.7 and 0.9 in order to explain between 70% and 90% of the variance. In this case, we are going to choose 0.8 as the threshold.   \n"
   ]
  },
  {
   "cell_type": "code",
   "execution_count": 26,
   "metadata": {},
   "outputs": [
    {
     "name": "stdout",
     "output_type": "stream",
     "text": [
      "It is needed 12 components to explain 83.1% variance of the data\n"
     ]
    }
   ],
   "source": [
    "#determine number of components with threshold=0.8\n",
    "n_components=np.where(np.cumsum(pca.explained_variance_ratio_)>0.8)[0][0]+1\n",
    "#explained variance\n",
    "v = round(np.cumsum(pca.explained_variance_ratio_)[n_components-1]*100,1)\n",
    "print(f'It is needed {n_components} components to explain {v}% variance of the data')"
   ]
  },
  {
   "cell_type": "markdown",
   "metadata": {},
   "source": [
    "Now that we have the number of components. We can calculate the values for those new variables. "
   ]
  },
  {
   "cell_type": "code",
   "execution_count": 27,
   "metadata": {},
   "outputs": [
    {
     "data": {
      "text/html": [
       "<div>\n",
       "<style scoped>\n",
       "    .dataframe tbody tr th:only-of-type {\n",
       "        vertical-align: middle;\n",
       "    }\n",
       "\n",
       "    .dataframe tbody tr th {\n",
       "        vertical-align: top;\n",
       "    }\n",
       "\n",
       "    .dataframe thead th {\n",
       "        text-align: right;\n",
       "    }\n",
       "</style>\n",
       "<table border=\"1\" class=\"dataframe\">\n",
       "  <thead>\n",
       "    <tr style=\"text-align: right;\">\n",
       "      <th></th>\n",
       "      <th>infection_order</th>\n",
       "      <th>contact_number</th>\n",
       "      <th>month</th>\n",
       "      <th>day</th>\n",
       "      <th>age</th>\n",
       "      <th>infection_duration</th>\n",
       "      <th>infection_reason_contact</th>\n",
       "      <th>infection_reason_italian</th>\n",
       "      <th>infection_reason_medical</th>\n",
       "      <th>infection_reason_militar</th>\n",
       "      <th>...</th>\n",
       "      <th>China</th>\n",
       "      <th>France</th>\n",
       "      <th>Korea</th>\n",
       "      <th>Mongolia</th>\n",
       "      <th>state_Unknown</th>\n",
       "      <th>state_deceased</th>\n",
       "      <th>state_isolated</th>\n",
       "      <th>state_released</th>\n",
       "      <th>female</th>\n",
       "      <th>male</th>\n",
       "    </tr>\n",
       "  </thead>\n",
       "  <tbody>\n",
       "    <tr>\n",
       "      <th>PC0</th>\n",
       "      <td>0.004309</td>\n",
       "      <td>0.000988</td>\n",
       "      <td>0.178521</td>\n",
       "      <td>-0.121436</td>\n",
       "      <td>-0.238557</td>\n",
       "      <td>-0.248756</td>\n",
       "      <td>0.024514</td>\n",
       "      <td>0.004974</td>\n",
       "      <td>0.011880</td>\n",
       "      <td>0.005858</td>\n",
       "      <td>...</td>\n",
       "      <td>0.005380</td>\n",
       "      <td>0.385099</td>\n",
       "      <td>-0.384989</td>\n",
       "      <td>0.005283</td>\n",
       "      <td>0.358217</td>\n",
       "      <td>0.016738</td>\n",
       "      <td>-0.355500</td>\n",
       "      <td>0.023798</td>\n",
       "      <td>-0.373611</td>\n",
       "      <td>0.373611</td>\n",
       "    </tr>\n",
       "    <tr>\n",
       "      <th>PC1</th>\n",
       "      <td>0.065912</td>\n",
       "      <td>0.101079</td>\n",
       "      <td>-0.568470</td>\n",
       "      <td>0.542312</td>\n",
       "      <td>-0.219276</td>\n",
       "      <td>0.367192</td>\n",
       "      <td>0.193349</td>\n",
       "      <td>-0.006127</td>\n",
       "      <td>-0.000051</td>\n",
       "      <td>-0.000233</td>\n",
       "      <td>...</td>\n",
       "      <td>0.118935</td>\n",
       "      <td>0.042342</td>\n",
       "      <td>-0.051305</td>\n",
       "      <td>0.029747</td>\n",
       "      <td>0.044485</td>\n",
       "      <td>0.034254</td>\n",
       "      <td>-0.095720</td>\n",
       "      <td>0.212347</td>\n",
       "      <td>-0.140168</td>\n",
       "      <td>0.140168</td>\n",
       "    </tr>\n",
       "    <tr>\n",
       "      <th>PC2</th>\n",
       "      <td>0.264373</td>\n",
       "      <td>0.368290</td>\n",
       "      <td>0.180319</td>\n",
       "      <td>-0.261195</td>\n",
       "      <td>-0.037057</td>\n",
       "      <td>-0.152029</td>\n",
       "      <td>0.311422</td>\n",
       "      <td>-0.004189</td>\n",
       "      <td>-0.007690</td>\n",
       "      <td>-0.002809</td>\n",
       "      <td>...</td>\n",
       "      <td>0.421744</td>\n",
       "      <td>-0.082284</td>\n",
       "      <td>0.053682</td>\n",
       "      <td>-0.038444</td>\n",
       "      <td>-0.115755</td>\n",
       "      <td>-0.077364</td>\n",
       "      <td>0.015430</td>\n",
       "      <td>0.526815</td>\n",
       "      <td>0.055032</td>\n",
       "      <td>-0.055032</td>\n",
       "    </tr>\n",
       "    <tr>\n",
       "      <th>PC3</th>\n",
       "      <td>0.026494</td>\n",
       "      <td>0.081127</td>\n",
       "      <td>0.008241</td>\n",
       "      <td>-0.017212</td>\n",
       "      <td>0.296252</td>\n",
       "      <td>-0.008517</td>\n",
       "      <td>0.067221</td>\n",
       "      <td>0.021830</td>\n",
       "      <td>-0.016607</td>\n",
       "      <td>-0.022559</td>\n",
       "      <td>...</td>\n",
       "      <td>0.065863</td>\n",
       "      <td>-0.023925</td>\n",
       "      <td>0.006922</td>\n",
       "      <td>0.501421</td>\n",
       "      <td>-0.010572</td>\n",
       "      <td>0.769217</td>\n",
       "      <td>-0.162056</td>\n",
       "      <td>0.053927</td>\n",
       "      <td>-0.014756</td>\n",
       "      <td>0.014756</td>\n",
       "    </tr>\n",
       "    <tr>\n",
       "      <th>PC4</th>\n",
       "      <td>0.139222</td>\n",
       "      <td>-0.008819</td>\n",
       "      <td>0.023518</td>\n",
       "      <td>-0.047880</td>\n",
       "      <td>-0.071343</td>\n",
       "      <td>0.069621</td>\n",
       "      <td>-0.202963</td>\n",
       "      <td>0.069261</td>\n",
       "      <td>0.007674</td>\n",
       "      <td>0.121877</td>\n",
       "      <td>...</td>\n",
       "      <td>0.011109</td>\n",
       "      <td>0.065306</td>\n",
       "      <td>-0.071140</td>\n",
       "      <td>0.209316</td>\n",
       "      <td>-0.199444</td>\n",
       "      <td>0.092143</td>\n",
       "      <td>0.197591</td>\n",
       "      <td>-0.110652</td>\n",
       "      <td>-0.054991</td>\n",
       "      <td>0.054991</td>\n",
       "    </tr>\n",
       "    <tr>\n",
       "      <th>PC5</th>\n",
       "      <td>0.144171</td>\n",
       "      <td>0.053267</td>\n",
       "      <td>0.000162</td>\n",
       "      <td>0.015963</td>\n",
       "      <td>0.041841</td>\n",
       "      <td>0.010899</td>\n",
       "      <td>-0.624724</td>\n",
       "      <td>0.002644</td>\n",
       "      <td>0.026263</td>\n",
       "      <td>-0.054486</td>\n",
       "      <td>...</td>\n",
       "      <td>0.108520</td>\n",
       "      <td>0.003052</td>\n",
       "      <td>-0.012428</td>\n",
       "      <td>0.073407</td>\n",
       "      <td>0.067411</td>\n",
       "      <td>0.013072</td>\n",
       "      <td>-0.042469</td>\n",
       "      <td>-0.119265</td>\n",
       "      <td>0.018166</td>\n",
       "      <td>-0.018166</td>\n",
       "    </tr>\n",
       "    <tr>\n",
       "      <th>PC6</th>\n",
       "      <td>0.053757</td>\n",
       "      <td>0.058880</td>\n",
       "      <td>0.001754</td>\n",
       "      <td>-0.004688</td>\n",
       "      <td>0.082794</td>\n",
       "      <td>0.007387</td>\n",
       "      <td>0.013917</td>\n",
       "      <td>0.858133</td>\n",
       "      <td>0.029103</td>\n",
       "      <td>0.078743</td>\n",
       "      <td>...</td>\n",
       "      <td>0.014666</td>\n",
       "      <td>0.009155</td>\n",
       "      <td>-0.006982</td>\n",
       "      <td>-0.128956</td>\n",
       "      <td>0.000312</td>\n",
       "      <td>0.008330</td>\n",
       "      <td>0.001296</td>\n",
       "      <td>-0.015588</td>\n",
       "      <td>-0.022510</td>\n",
       "      <td>0.022510</td>\n",
       "    </tr>\n",
       "    <tr>\n",
       "      <th>PC7</th>\n",
       "      <td>0.035161</td>\n",
       "      <td>0.007365</td>\n",
       "      <td>0.014947</td>\n",
       "      <td>-0.027565</td>\n",
       "      <td>-0.006870</td>\n",
       "      <td>0.018143</td>\n",
       "      <td>0.015904</td>\n",
       "      <td>-0.229280</td>\n",
       "      <td>-0.026950</td>\n",
       "      <td>0.928029</td>\n",
       "      <td>...</td>\n",
       "      <td>-0.012974</td>\n",
       "      <td>-0.008435</td>\n",
       "      <td>0.008722</td>\n",
       "      <td>0.024528</td>\n",
       "      <td>0.002372</td>\n",
       "      <td>0.000023</td>\n",
       "      <td>-0.000379</td>\n",
       "      <td>-0.008977</td>\n",
       "      <td>-0.007708</td>\n",
       "      <td>0.007708</td>\n",
       "    </tr>\n",
       "    <tr>\n",
       "      <th>PC8</th>\n",
       "      <td>0.008635</td>\n",
       "      <td>0.012589</td>\n",
       "      <td>-0.000035</td>\n",
       "      <td>0.000690</td>\n",
       "      <td>-0.000175</td>\n",
       "      <td>-0.002327</td>\n",
       "      <td>0.021141</td>\n",
       "      <td>-0.038298</td>\n",
       "      <td>0.997829</td>\n",
       "      <td>0.015540</td>\n",
       "      <td>...</td>\n",
       "      <td>0.000621</td>\n",
       "      <td>-0.001565</td>\n",
       "      <td>0.000971</td>\n",
       "      <td>0.022208</td>\n",
       "      <td>-0.017410</td>\n",
       "      <td>0.003063</td>\n",
       "      <td>0.016065</td>\n",
       "      <td>0.000724</td>\n",
       "      <td>-0.001340</td>\n",
       "      <td>0.001340</td>\n",
       "    </tr>\n",
       "    <tr>\n",
       "      <th>PC9</th>\n",
       "      <td>-0.061893</td>\n",
       "      <td>-0.044346</td>\n",
       "      <td>-0.027908</td>\n",
       "      <td>0.039815</td>\n",
       "      <td>-0.015182</td>\n",
       "      <td>-0.008234</td>\n",
       "      <td>0.001989</td>\n",
       "      <td>0.433443</td>\n",
       "      <td>0.016005</td>\n",
       "      <td>0.326478</td>\n",
       "      <td>...</td>\n",
       "      <td>-0.002902</td>\n",
       "      <td>0.011659</td>\n",
       "      <td>-0.012016</td>\n",
       "      <td>0.023420</td>\n",
       "      <td>-0.006367</td>\n",
       "      <td>-0.007645</td>\n",
       "      <td>0.004928</td>\n",
       "      <td>0.013236</td>\n",
       "      <td>0.012210</td>\n",
       "      <td>-0.012210</td>\n",
       "    </tr>\n",
       "    <tr>\n",
       "      <th>PC10</th>\n",
       "      <td>0.847653</td>\n",
       "      <td>-0.078180</td>\n",
       "      <td>0.018507</td>\n",
       "      <td>-0.012752</td>\n",
       "      <td>-0.017051</td>\n",
       "      <td>0.025521</td>\n",
       "      <td>0.198062</td>\n",
       "      <td>-0.007334</td>\n",
       "      <td>-0.011406</td>\n",
       "      <td>-0.043451</td>\n",
       "      <td>...</td>\n",
       "      <td>-0.435367</td>\n",
       "      <td>-0.005549</td>\n",
       "      <td>0.035626</td>\n",
       "      <td>0.011485</td>\n",
       "      <td>0.003366</td>\n",
       "      <td>-0.004055</td>\n",
       "      <td>0.028416</td>\n",
       "      <td>-0.143934</td>\n",
       "      <td>-0.032604</td>\n",
       "      <td>0.032604</td>\n",
       "    </tr>\n",
       "    <tr>\n",
       "      <th>PC11</th>\n",
       "      <td>-0.147680</td>\n",
       "      <td>-0.390608</td>\n",
       "      <td>0.059695</td>\n",
       "      <td>-0.084089</td>\n",
       "      <td>-0.287157</td>\n",
       "      <td>-0.025303</td>\n",
       "      <td>0.194676</td>\n",
       "      <td>0.111874</td>\n",
       "      <td>-0.007603</td>\n",
       "      <td>-0.046195</td>\n",
       "      <td>...</td>\n",
       "      <td>-0.108270</td>\n",
       "      <td>-0.051200</td>\n",
       "      <td>0.041592</td>\n",
       "      <td>0.692280</td>\n",
       "      <td>-0.053103</td>\n",
       "      <td>-0.301129</td>\n",
       "      <td>0.085556</td>\n",
       "      <td>0.134451</td>\n",
       "      <td>0.015760</td>\n",
       "      <td>-0.015760</td>\n",
       "    </tr>\n",
       "  </tbody>\n",
       "</table>\n",
       "<p>12 rows × 23 columns</p>\n",
       "</div>"
      ],
      "text/plain": [
       "      infection_order  contact_number     month       day       age  \\\n",
       "PC0          0.004309        0.000988  0.178521 -0.121436 -0.238557   \n",
       "PC1          0.065912        0.101079 -0.568470  0.542312 -0.219276   \n",
       "PC2          0.264373        0.368290  0.180319 -0.261195 -0.037057   \n",
       "PC3          0.026494        0.081127  0.008241 -0.017212  0.296252   \n",
       "PC4          0.139222       -0.008819  0.023518 -0.047880 -0.071343   \n",
       "PC5          0.144171        0.053267  0.000162  0.015963  0.041841   \n",
       "PC6          0.053757        0.058880  0.001754 -0.004688  0.082794   \n",
       "PC7          0.035161        0.007365  0.014947 -0.027565 -0.006870   \n",
       "PC8          0.008635        0.012589 -0.000035  0.000690 -0.000175   \n",
       "PC9         -0.061893       -0.044346 -0.027908  0.039815 -0.015182   \n",
       "PC10         0.847653       -0.078180  0.018507 -0.012752 -0.017051   \n",
       "PC11        -0.147680       -0.390608  0.059695 -0.084089 -0.287157   \n",
       "\n",
       "      infection_duration  infection_reason_contact  infection_reason_italian  \\\n",
       "PC0            -0.248756                  0.024514                  0.004974   \n",
       "PC1             0.367192                  0.193349                 -0.006127   \n",
       "PC2            -0.152029                  0.311422                 -0.004189   \n",
       "PC3            -0.008517                  0.067221                  0.021830   \n",
       "PC4             0.069621                 -0.202963                  0.069261   \n",
       "PC5             0.010899                 -0.624724                  0.002644   \n",
       "PC6             0.007387                  0.013917                  0.858133   \n",
       "PC7             0.018143                  0.015904                 -0.229280   \n",
       "PC8            -0.002327                  0.021141                 -0.038298   \n",
       "PC9            -0.008234                  0.001989                  0.433443   \n",
       "PC10            0.025521                  0.198062                 -0.007334   \n",
       "PC11           -0.025303                  0.194676                  0.111874   \n",
       "\n",
       "      infection_reason_medical  infection_reason_militar  ...     China  \\\n",
       "PC0                   0.011880                  0.005858  ...  0.005380   \n",
       "PC1                  -0.000051                 -0.000233  ...  0.118935   \n",
       "PC2                  -0.007690                 -0.002809  ...  0.421744   \n",
       "PC3                  -0.016607                 -0.022559  ...  0.065863   \n",
       "PC4                   0.007674                  0.121877  ...  0.011109   \n",
       "PC5                   0.026263                 -0.054486  ...  0.108520   \n",
       "PC6                   0.029103                  0.078743  ...  0.014666   \n",
       "PC7                  -0.026950                  0.928029  ... -0.012974   \n",
       "PC8                   0.997829                  0.015540  ...  0.000621   \n",
       "PC9                   0.016005                  0.326478  ... -0.002902   \n",
       "PC10                 -0.011406                 -0.043451  ... -0.435367   \n",
       "PC11                 -0.007603                 -0.046195  ... -0.108270   \n",
       "\n",
       "        France     Korea  Mongolia  state_Unknown  state_deceased  \\\n",
       "PC0   0.385099 -0.384989  0.005283       0.358217        0.016738   \n",
       "PC1   0.042342 -0.051305  0.029747       0.044485        0.034254   \n",
       "PC2  -0.082284  0.053682 -0.038444      -0.115755       -0.077364   \n",
       "PC3  -0.023925  0.006922  0.501421      -0.010572        0.769217   \n",
       "PC4   0.065306 -0.071140  0.209316      -0.199444        0.092143   \n",
       "PC5   0.003052 -0.012428  0.073407       0.067411        0.013072   \n",
       "PC6   0.009155 -0.006982 -0.128956       0.000312        0.008330   \n",
       "PC7  -0.008435  0.008722  0.024528       0.002372        0.000023   \n",
       "PC8  -0.001565  0.000971  0.022208      -0.017410        0.003063   \n",
       "PC9   0.011659 -0.012016  0.023420      -0.006367       -0.007645   \n",
       "PC10 -0.005549  0.035626  0.011485       0.003366       -0.004055   \n",
       "PC11 -0.051200  0.041592  0.692280      -0.053103       -0.301129   \n",
       "\n",
       "      state_isolated  state_released    female      male  \n",
       "PC0        -0.355500        0.023798 -0.373611  0.373611  \n",
       "PC1        -0.095720        0.212347 -0.140168  0.140168  \n",
       "PC2         0.015430        0.526815  0.055032 -0.055032  \n",
       "PC3        -0.162056        0.053927 -0.014756  0.014756  \n",
       "PC4         0.197591       -0.110652 -0.054991  0.054991  \n",
       "PC5        -0.042469       -0.119265  0.018166 -0.018166  \n",
       "PC6         0.001296       -0.015588 -0.022510  0.022510  \n",
       "PC7        -0.000379       -0.008977 -0.007708  0.007708  \n",
       "PC8         0.016065        0.000724 -0.001340  0.001340  \n",
       "PC9         0.004928        0.013236  0.012210 -0.012210  \n",
       "PC10        0.028416       -0.143934 -0.032604  0.032604  \n",
       "PC11        0.085556        0.134451  0.015760 -0.015760  \n",
       "\n",
       "[12 rows x 23 columns]"
      ]
     },
     "execution_count": 27,
     "metadata": {},
     "output_type": "execute_result"
    }
   ],
   "source": [
    "pca = PCA(n_components=n_components, random_state=20)\n",
    "pcs = pca.fit(x)\n",
    "components_name = list(range(0, n_components))\n",
    "components_name = list(map(lambda x: 'PC' + str(x), components_name))\n",
    "pd.DataFrame(data=pcs.components_, columns = features.columns, index=components_name)"
   ]
  },
  {
   "cell_type": "markdown",
   "metadata": {},
   "source": [
    "We can visualize in a matrix the importance of each variable for each component. "
   ]
  },
  {
   "cell_type": "code",
   "execution_count": 28,
   "metadata": {},
   "outputs": [
    {
     "data": {
      "image/png": "[encoded data removed]",
      "text/plain": [
       "<Figure size 552x288 with 2 Axes>"
      ]
     },
     "metadata": {
      "needs_background": "light"
     },
     "output_type": "display_data"
    }
   ],
   "source": [
    "components_range = np.arange(1, n_components+1, 1)\n",
    "components_names = list(map(lambda x: 'PC' + str(x), components_range))\n",
    "plt.matshow(pcs.components_,cmap='viridis')\n",
    "plt.yticks(range(0,n_components), components_names,fontsize=10)\n",
    "plt.colorbar()\n",
    "plt.xticks(range(0,len(features.columns)),features.columns,rotation=90,ha='left')\n",
    "plt.show()"
   ]
  },
  {
   "cell_type": "markdown",
   "metadata": {},
   "source": [
    "Higher values for the variables means more influence in the principal component. Lower values, means negative influence in the principal components. Thus, from the heatmap, one possible interpretation for the principal components is:\n",
    "- PC1: men who is not isolated and is not from from Korea\n",
    "- PC2: first months \n",
    "- PC3: state released\n",
    "- PC4: state deceased\n",
    "- PC5: infection reason religious\n",
    "- PC6: infection reason visit\n",
    "- PC7: infection reason italian\n",
    "- PC8: infection reason militar\n",
    "- PC9: infection reason medical\n",
    "- PC10: infection reason pilgrimage\n",
    "- PC11: high infection order \n",
    "- PC12: from Mongolia"
   ]
  },
  {
   "cell_type": "markdown",
   "metadata": {},
   "source": [
    "## Kmeans Clustering"
   ]
  },
  {
   "cell_type": "markdown",
   "metadata": {},
   "source": [
    "**K-means** tries to split the data into k groups, where the elements of a group are close to each other. \n",
    "This method is based on distance between datapoints. Therefore, the goal is to minimize the distance between the points to the centroids. \n",
    "The centroids are the \"middle\" points for each cluster/group. \n",
    "The algorithm starts with randomly selected centroids and in each iteration, \n",
    "it recalculates the position of the centroids. \n",
    "\n",
    "**Scree plot:** To determine the number of groups, a plot that shows the heights for the clusters can be used and search for the drop out point. This method is called the elbow-test. "
   ]
  },
  {
   "cell_type": "markdown",
   "metadata": {},
   "source": [
    "Now, we can create a dataframe from the principal components scores and use that for the clustering analysis. "
   ]
  },
  {
   "cell_type": "code",
   "execution_count": 29,
   "metadata": {},
   "outputs": [
    {
     "data": {
      "text/html": [
       "<div>\n",
       "<style scoped>\n",
       "    .dataframe tbody tr th:only-of-type {\n",
       "        vertical-align: middle;\n",
       "    }\n",
       "\n",
       "    .dataframe tbody tr th {\n",
       "        vertical-align: top;\n",
       "    }\n",
       "\n",
       "    .dataframe thead th {\n",
       "        text-align: right;\n",
       "    }\n",
       "</style>\n",
       "<table border=\"1\" class=\"dataframe\">\n",
       "  <thead>\n",
       "    <tr style=\"text-align: right;\">\n",
       "      <th></th>\n",
       "      <th>PC1</th>\n",
       "      <th>PC2</th>\n",
       "      <th>PC3</th>\n",
       "      <th>PC4</th>\n",
       "      <th>PC5</th>\n",
       "      <th>PC6</th>\n",
       "      <th>PC7</th>\n",
       "      <th>PC8</th>\n",
       "      <th>PC9</th>\n",
       "      <th>PC10</th>\n",
       "      <th>PC11</th>\n",
       "      <th>PC12</th>\n",
       "    </tr>\n",
       "  </thead>\n",
       "  <tbody>\n",
       "    <tr>\n",
       "      <th>0</th>\n",
       "      <td>2.424052</td>\n",
       "      <td>4.277687</td>\n",
       "      <td>1.151308</td>\n",
       "      <td>-1.509822</td>\n",
       "      <td>3.482852</td>\n",
       "      <td>5.144747</td>\n",
       "      <td>-0.432140</td>\n",
       "      <td>-0.170274</td>\n",
       "      <td>-0.246706</td>\n",
       "      <td>0.381380</td>\n",
       "      <td>-0.102455</td>\n",
       "      <td>1.128225</td>\n",
       "    </tr>\n",
       "    <tr>\n",
       "      <th>1</th>\n",
       "      <td>0.611904</td>\n",
       "      <td>3.849801</td>\n",
       "      <td>1.801734</td>\n",
       "      <td>0.044274</td>\n",
       "      <td>-1.523685</td>\n",
       "      <td>-5.649840</td>\n",
       "      <td>0.028122</td>\n",
       "      <td>0.056368</td>\n",
       "      <td>0.185740</td>\n",
       "      <td>0.207979</td>\n",
       "      <td>1.684324</td>\n",
       "      <td>1.727851</td>\n",
       "    </tr>\n",
       "    <tr>\n",
       "      <th>2</th>\n",
       "      <td>5.224868</td>\n",
       "      <td>3.434568</td>\n",
       "      <td>9.345775</td>\n",
       "      <td>-0.295189</td>\n",
       "      <td>1.468660</td>\n",
       "      <td>3.669445</td>\n",
       "      <td>-0.643746</td>\n",
       "      <td>-0.246121</td>\n",
       "      <td>-0.274986</td>\n",
       "      <td>0.407294</td>\n",
       "      <td>-2.024579</td>\n",
       "      <td>3.023083</td>\n",
       "    </tr>\n",
       "    <tr>\n",
       "      <th>3</th>\n",
       "      <td>3.696676</td>\n",
       "      <td>-0.307903</td>\n",
       "      <td>-0.328911</td>\n",
       "      <td>-1.624171</td>\n",
       "      <td>11.702516</td>\n",
       "      <td>-6.089520</td>\n",
       "      <td>-0.933304</td>\n",
       "      <td>-1.980368</td>\n",
       "      <td>-0.099977</td>\n",
       "      <td>-0.561258</td>\n",
       "      <td>-1.416193</td>\n",
       "      <td>-2.254403</td>\n",
       "    </tr>\n",
       "    <tr>\n",
       "      <th>4</th>\n",
       "      <td>1.908461</td>\n",
       "      <td>-0.978788</td>\n",
       "      <td>-0.065509</td>\n",
       "      <td>-1.694799</td>\n",
       "      <td>11.439313</td>\n",
       "      <td>-6.002573</td>\n",
       "      <td>-1.041045</td>\n",
       "      <td>-2.017262</td>\n",
       "      <td>-0.106390</td>\n",
       "      <td>-0.502815</td>\n",
       "      <td>-1.572244</td>\n",
       "      <td>-2.178969</td>\n",
       "    </tr>\n",
       "  </tbody>\n",
       "</table>\n",
       "</div>"
      ],
      "text/plain": [
       "        PC1       PC2       PC3       PC4        PC5       PC6       PC7  \\\n",
       "0  2.424052  4.277687  1.151308 -1.509822   3.482852  5.144747 -0.432140   \n",
       "1  0.611904  3.849801  1.801734  0.044274  -1.523685 -5.649840  0.028122   \n",
       "2  5.224868  3.434568  9.345775 -0.295189   1.468660  3.669445 -0.643746   \n",
       "3  3.696676 -0.307903 -0.328911 -1.624171  11.702516 -6.089520 -0.933304   \n",
       "4  1.908461 -0.978788 -0.065509 -1.694799  11.439313 -6.002573 -1.041045   \n",
       "\n",
       "        PC8       PC9      PC10      PC11      PC12  \n",
       "0 -0.170274 -0.246706  0.381380 -0.102455  1.128225  \n",
       "1  0.056368  0.185740  0.207979  1.684324  1.727851  \n",
       "2 -0.246121 -0.274986  0.407294 -2.024579  3.023083  \n",
       "3 -1.980368 -0.099977 -0.561258 -1.416193 -2.254403  \n",
       "4 -2.017262 -0.106390 -0.502815 -1.572244 -2.178969  "
      ]
     },
     "execution_count": 29,
     "metadata": {},
     "output_type": "execute_result"
    }
   ],
   "source": [
    "pca_df = pd.DataFrame(data = pca.fit_transform(x), columns = components_names)\n",
    "pca_df.head()"
   ]
  },
  {
   "cell_type": "markdown",
   "metadata": {},
   "source": [
    "Use the elbow test in order to define the optimal number of clusters."
   ]
  },
  {
   "cell_type": "code",
   "execution_count": 30,
   "metadata": {},
   "outputs": [],
   "source": [
    "def elbow_test(df, n_init, max_clusters, max_iter):\n",
    "    distortions = []\n",
    "    for i in range(1, max_clusters):\n",
    "        km = KMeans(\n",
    "            n_clusters=i, init='random',\n",
    "            n_init=n_init, max_iter=max_iter,\n",
    "            tol=1e-04, random_state=20\n",
    "        )\n",
    "        km.fit(df)\n",
    "        distortions.append(km.inertia_)\n",
    "\n",
    "    plt.plot(range(1, max_clusters), distortions, marker='o')\n",
    "    plt.xlabel('Number of clusters')\n",
    "    plt.ylabel('Distortion')\n",
    "    plt.show()\n",
    "    \n",
    "    kn = KneeLocator(\n",
    "        range(1, max_clusters),\n",
    "        distortions,\n",
    "        curve='convex',\n",
    "        direction='decreasing',\n",
    "        interp_method='interp1d',\n",
    "    )\n",
    "    return kn.knee\n"
   ]
  },
  {
   "cell_type": "code",
   "execution_count": 31,
   "metadata": {},
   "outputs": [
    {
     "data": {
      "image/png": "[encoded data removed]",
      "text/plain": [
       "<Figure size 432x288 with 1 Axes>"
      ]
     },
     "metadata": {
      "needs_background": "light"
     },
     "output_type": "display_data"
    },
    {
     "name": "stdout",
     "output_type": "stream",
     "text": [
      "the optimal number of clusters is 4\n"
     ]
    }
   ],
   "source": [
    "n_clusters = elbow_test(pca_df, 10, 20, 300)\n",
    "print(f'the optimal number of clusters is {n_clusters}')"
   ]
  },
  {
   "cell_type": "markdown",
   "metadata": {},
   "source": [
    "Let's call Kmeans with the determined number of clusters and see what we find!"
   ]
  },
  {
   "cell_type": "code",
   "execution_count": 32,
   "metadata": {},
   "outputs": [],
   "source": [
    "km = KMeans(n_clusters=n_clusters, random_state=20)\n",
    "y = km.fit_predict(pca_df)\n",
    "idx = np.argsort(km.cluster_centers_.sum(axis=1))\n",
    "lut = np.zeros_like(idx)\n",
    "lut[idx] = np.arange(n_clusters)\n",
    "pca_df['cluster'] = lut[km.labels_]\n",
    "df['cluster'] = lut[km.labels_]"
   ]
  },
  {
   "cell_type": "markdown",
   "metadata": {},
   "source": [
    "You can save the model with the following code:   \n",
    "\n",
    "```python\n",
    "import pickle   \n",
    "pickle.dump(km, open('kmeans_model.sav', 'wb'))\n",
    "```\n"
   ]
  },
  {
   "cell_type": "code",
   "execution_count": 45,
   "metadata": {},
   "outputs": [],
   "source": [
    "#To load the model\n",
    "km = pickle.load(open('kmeans_model.sav', 'rb'))"
   ]
  },
  {
   "cell_type": "markdown",
   "metadata": {},
   "source": [
    "We can see that clusters 3 has only 1 element. "
   ]
  },
  {
   "cell_type": "code",
   "execution_count": 69,
   "metadata": {
    "scrolled": true
   },
   "outputs": [
    {
     "data": {
      "text/html": [
       "<div>\n",
       "<style scoped>\n",
       "    .dataframe tbody tr th:only-of-type {\n",
       "        vertical-align: middle;\n",
       "    }\n",
       "\n",
       "    .dataframe tbody tr th {\n",
       "        vertical-align: top;\n",
       "    }\n",
       "\n",
       "    .dataframe thead th {\n",
       "        text-align: right;\n",
       "    }\n",
       "</style>\n",
       "<table border=\"1\" class=\"dataframe\">\n",
       "  <thead>\n",
       "    <tr style=\"text-align: right;\">\n",
       "      <th></th>\n",
       "      <th>PC1</th>\n",
       "      <th>PC2</th>\n",
       "      <th>PC3</th>\n",
       "      <th>PC4</th>\n",
       "      <th>PC5</th>\n",
       "      <th>PC6</th>\n",
       "      <th>PC7</th>\n",
       "      <th>PC8</th>\n",
       "      <th>PC9</th>\n",
       "      <th>PC10</th>\n",
       "      <th>PC11</th>\n",
       "      <th>PC12</th>\n",
       "      <th>cluster</th>\n",
       "    </tr>\n",
       "  </thead>\n",
       "  <tbody>\n",
       "    <tr>\n",
       "      <th>173</th>\n",
       "      <td>3.025761</td>\n",
       "      <td>-1.390813</td>\n",
       "      <td>-0.64545</td>\n",
       "      <td>2.591371</td>\n",
       "      <td>7.320237</td>\n",
       "      <td>0.268957</td>\n",
       "      <td>85.79365</td>\n",
       "      <td>-22.86827</td>\n",
       "      <td>-3.815993</td>\n",
       "      <td>43.169865</td>\n",
       "      <td>-0.713433</td>\n",
       "      <td>10.56046</td>\n",
       "      <td>3</td>\n",
       "    </tr>\n",
       "  </tbody>\n",
       "</table>\n",
       "</div>"
      ],
      "text/plain": [
       "          PC1       PC2      PC3       PC4       PC5       PC6       PC7  \\\n",
       "173  3.025761 -1.390813 -0.64545  2.591371  7.320237  0.268957  85.79365   \n",
       "\n",
       "          PC8       PC9       PC10      PC11      PC12  cluster  \n",
       "173 -22.86827 -3.815993  43.169865 -0.713433  10.56046        3  "
      ]
     },
     "execution_count": 69,
     "metadata": {},
     "output_type": "execute_result"
    }
   ],
   "source": [
    "pca_df[pca_df['cluster']==3]"
   ]
  },
  {
   "cell_type": "markdown",
   "metadata": {},
   "source": [
    "We can see that the PC7 value is high. It corresponds to the infection reason 'italian'. We can corroborate this by looking at the actual data:  "
   ]
  },
  {
   "cell_type": "code",
   "execution_count": 70,
   "metadata": {},
   "outputs": [
    {
     "data": {
      "text/html": [
       "<div>\n",
       "<style scoped>\n",
       "    .dataframe tbody tr th:only-of-type {\n",
       "        vertical-align: middle;\n",
       "    }\n",
       "\n",
       "    .dataframe tbody tr th {\n",
       "        vertical-align: top;\n",
       "    }\n",
       "\n",
       "    .dataframe thead th {\n",
       "        text-align: right;\n",
       "    }\n",
       "</style>\n",
       "<table border=\"1\" class=\"dataframe\">\n",
       "  <thead>\n",
       "    <tr style=\"text-align: right;\">\n",
       "      <th></th>\n",
       "      <th>sex</th>\n",
       "      <th>country</th>\n",
       "      <th>infection_reason</th>\n",
       "      <th>infection_order</th>\n",
       "      <th>contact_number</th>\n",
       "      <th>state</th>\n",
       "      <th>month</th>\n",
       "      <th>day</th>\n",
       "      <th>age</th>\n",
       "      <th>infection_duration</th>\n",
       "      <th>...</th>\n",
       "      <th>France</th>\n",
       "      <th>Korea</th>\n",
       "      <th>Mongolia</th>\n",
       "      <th>state_Unknown</th>\n",
       "      <th>state_deceased</th>\n",
       "      <th>state_isolated</th>\n",
       "      <th>state_released</th>\n",
       "      <th>female</th>\n",
       "      <th>male</th>\n",
       "      <th>cluster</th>\n",
       "    </tr>\n",
       "  </thead>\n",
       "  <tbody>\n",
       "    <tr>\n",
       "      <th>174</th>\n",
       "      <td>male</td>\n",
       "      <td>France</td>\n",
       "      <td>italian</td>\n",
       "      <td>0.0</td>\n",
       "      <td>0.0</td>\n",
       "      <td>isolated</td>\n",
       "      <td>3.0</td>\n",
       "      <td>7.0</td>\n",
       "      <td>69.0</td>\n",
       "      <td>12</td>\n",
       "      <td>...</td>\n",
       "      <td>1</td>\n",
       "      <td>0</td>\n",
       "      <td>0</td>\n",
       "      <td>0</td>\n",
       "      <td>0</td>\n",
       "      <td>1</td>\n",
       "      <td>0</td>\n",
       "      <td>0</td>\n",
       "      <td>1</td>\n",
       "      <td>3</td>\n",
       "    </tr>\n",
       "  </tbody>\n",
       "</table>\n",
       "<p>1 rows × 28 columns</p>\n",
       "</div>"
      ],
      "text/plain": [
       "      sex country infection_reason  infection_order  contact_number     state  \\\n",
       "174  male  France          italian              0.0             0.0  isolated   \n",
       "\n",
       "     month  day   age  infection_duration  ...  France  Korea  Mongolia  \\\n",
       "174    3.0  7.0  69.0                  12  ...       1      0         0   \n",
       "\n",
       "     state_Unknown  state_deceased  state_isolated  state_released  female  \\\n",
       "174              0               0               1               0       0   \n",
       "\n",
       "     male  cluster  \n",
       "174     1        3  \n",
       "\n",
       "[1 rows x 28 columns]"
      ]
     },
     "execution_count": 70,
     "metadata": {},
     "output_type": "execute_result"
    }
   ],
   "source": [
    "df[df['cluster']==3]"
   ]
  },
  {
   "cell_type": "markdown",
   "metadata": {},
   "source": [
    "Two functions to draw graphs are defined below. One for a scatter plot to compare two principal components and see how the clusters are distributed among them. And the other to create a 3d plot to compare three principal components coloring by cluster. These graphs will help us to determine the definition of the clusters. "
   ]
  },
  {
   "cell_type": "code",
   "execution_count": 71,
   "metadata": {},
   "outputs": [],
   "source": [
    "def draw_scatter(df, col_1, col_2, cluster_column, num_clusters, title):\n",
    "    fig = plt.figure(figsize=(10,10))\n",
    "    ax = fig.add_subplot(111)\n",
    "    ax.set_title(title)\n",
    "    ax.set_xlabel(col_1)\n",
    "    ax.set_ylabel(col_2)\n",
    "    labels = list(range(0,num_clusters))\n",
    "    colors = plt.cm.Spectral(np.linspace(0, 1, num_clusters))\n",
    "    axs = []\n",
    "    for i in labels:\n",
    "        axs.append(ax.scatter(df[df[cluster_column]==i][col_1], df[df[cluster_column]==i][col_2], cmap=colors[i]))\n",
    "    \n",
    "    ax.legend(axs, labels, loc='center', bbox_to_anchor=(0.92, 0.84), ncol=1)\n",
    "    plt.show()\n"
   ]
  },
  {
   "cell_type": "code",
   "execution_count": 72,
   "metadata": {},
   "outputs": [],
   "source": [
    "def create_3d_scatter(df, col_1, col_2, col_3, cluster_column, num_clusters, title):\n",
    "    fig = plt.figure()\n",
    "    ax = fig.add_subplot(111, projection='3d')\n",
    "    ax.set_title(title)\n",
    "    ax.set_xlabel(col_1)\n",
    "    ax.set_ylabel(col_2)\n",
    "    ax.set_zlabel(col_3, rotation=90)\n",
    "    labels = list(range(0,num_clusters))\n",
    "    colors = plt.cm.Spectral(np.linspace(0, 1, num_clusters))\n",
    "    axs = []\n",
    "    for i in labels:\n",
    "        d = df[df[cluster_column]==i]\n",
    "        axs.append(ax.scatter(d[col_1], d[col_2], d[col_3], cmap=colors[i]))\n",
    "    \n",
    "    ax.legend(axs, labels, bbox_to_anchor=(0.2, 0.5), ncol=1)\n",
    "    ax.set_xticklabels([])\n",
    "    ax.set_yticklabels([])\n",
    "    ax.set_zticklabels([])\n",
    "    plt.show()"
   ]
  },
  {
   "cell_type": "markdown",
   "metadata": {},
   "source": [
    "We are going to compare PC1,PC2,PC3 in a 3d plot and color by cluster to see if we find any pattern."
   ]
  },
  {
   "cell_type": "code",
   "execution_count": 73,
   "metadata": {},
   "outputs": [
    {
     "data": {
      "image/png": "[encoded data removed]",
      "text/plain": [
       "<Figure size 432x288 with 1 Axes>"
      ]
     },
     "metadata": {
      "needs_background": "light"
     },
     "output_type": "display_data"
    }
   ],
   "source": [
    "create_3d_scatter(pca_df, 'PC1', 'PC2', 'PC3', 'cluster', n_clusters, '')"
   ]
  },
  {
   "cell_type": "markdown",
   "metadata": {},
   "source": [
    "From the graph we can see that some of the clusters are distributed according the first 2 principal components.  \n",
    " It seems that PC3 does not have too much influence in the split of the clusters. \n",
    "\n",
    "| Cluster | PC1  |  PC2  | PC3  |\n",
    "| :------:|:----:|:-----:|:----:|\n",
    "| 0       | low  |  low  | low  |\n",
    "| 1       | low  |middle | -    |\n",
    "| 2       | high |middle | -    |\n",
    "\n",
    "So, let's graph other PC1 and PC2, to see more clearly this."
   ]
  },
  {
   "cell_type": "code",
   "execution_count": 97,
   "metadata": {},
   "outputs": [
    {
     "data": {
      "image/png": "[encoded data removed]",
      "text/plain": [
       "<Figure size 720x720 with 1 Axes>"
      ]
     },
     "metadata": {
      "needs_background": "light"
     },
     "output_type": "display_data"
    }
   ],
   "source": [
    "draw_scatter(pca_df, 'PC1', 'PC2', 'cluster', n_clusters, 'Clusters - PC1/PC2')"
   ]
  },
  {
   "cell_type": "code",
   "execution_count": 105,
   "metadata": {
    "scrolled": true
   },
   "outputs": [
    {
     "data": {
      "image/png": "[encoded data removed]",
      "text/plain": [
       "<Figure size 720x720 with 1 Axes>"
      ]
     },
     "metadata": {
      "needs_background": "light"
     },
     "output_type": "display_data"
    }
   ],
   "source": [
    "draw_scatter(pca_df, 'PC1', 'PC3', 'cluster', n_clusters, 'Clusters - PC1/PC3')"
   ]
  },
  {
   "cell_type": "markdown",
   "metadata": {},
   "source": [
    "Remember that the meaning for the principal components was defined as follows: \n",
    "- PC1: men who is not isolated and is not from from Korea\n",
    "- PC2: first months \n",
    "- PC3: state released   \n",
    "\n",
    "So, we can conclude:    \n",
    "\n",
    "| Cluster | Meaning                                                               |\n",
    "|:-------:|:----------------------------------------------------------------------|\n",
    "|    0    | mostly female from Korea - in the third month                         |\n",
    "|    1    | moslty female from Korea - in the first and second months             |\n",
    "|    2    | mostly men from France                                                |    \n",
    "\n",
    "   "
   ]
  },
  {
   "cell_type": "markdown",
   "metadata": {},
   "source": [
    "\n",
    "\n",
    "## Conclusion \n",
    "\n",
    "In summary, these are the clusters that we found:\n",
    "\n",
    "\n",
    "\n",
    "| Cluster | Meaning                                                               |\n",
    "|:-------:|:----------------------------------------------------------------------|\n",
    "|    0    | mostly female from Korea - in state not released - in the third month |\n",
    "|    1    | moslty female from Korea - in the first and second months             |\n",
    "|    2    | mostly men from France                                                |    \n",
    "|    3    | infection reason italian                                              |\n"
   ]
  }
 ],
 "metadata": {
  "hide_input": false,
  "kernelspec": {
   "display_name": "Python 3",
   "language": "python",
   "name": "python3"
  },
  "language_info": {
   "codemirror_mode": {
    "name": "ipython",
    "version": 3
   },
   "file_extension": ".py",
   "mimetype": "text/x-python",
   "name": "python",
   "nbconvert_exporter": "python",
   "pygments_lexer": "ipython3",
   "version": "3.6.9"
  },
  "toc": {
   "base_numbering": 1,
   "nav_menu": {},
   "number_sections": true,
   "sideBar": true,
   "skip_h1_title": false,
   "title_cell": "Table of Contents",
   "title_sidebar": "Contents",
   "toc_cell": false,
   "toc_position": {
    "height": "calc(100% - 180px)",
    "left": "10px",
    "top": "150px",
    "width": "288px"
   },
   "toc_section_display": true,
   "toc_window_display": true
  }
 },
 "nbformat": 4,
 "nbformat_minor": 4
}
