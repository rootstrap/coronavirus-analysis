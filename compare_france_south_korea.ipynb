{
 "cells": [
  {
   "cell_type": "markdown",
   "metadata": {},
   "source": [
    "# Clustering analysis\n",
    "\n",
    "There are two datasets that have similar information for France and South Korea, respectively. So, the idea is to merge those datasets and see if we can find clusters. \n",
    "\n",
    "You can find the links to the data here: \n",
    "- France: https://www.kaggle.com/lperez/coronavirus-france-dataset\n",
    "- South Korea: https://www.kaggle.com/kimjihoo/coronavirusdataset"
   ]
  },
  {
   "cell_type": "code",
   "execution_count": 1,
   "metadata": {},
   "outputs": [],
   "source": [
    "import pandas as pd\n",
    "import numpy as np\n",
    "import random\n",
    "from sklearn import preprocessing\n",
    "from sklearn.cluster import KMeans\n",
    "import matplotlib.pyplot as plt\n",
    "from kneed import KneeLocator\n",
    "import geopandas\n",
    "from matplotlib import cm\n",
    "from mpl_toolkits.mplot3d import Axes3D"
   ]
  },
  {
   "cell_type": "markdown",
   "metadata": {},
   "source": [
    "## Load the data and check missing values\n",
    "Let's load the data for both datasets and see how many NAs values it has. NAs values corresponds to missing or empty information. Decision should be made for each particular column to prepare the data for the analysis. "
   ]
  },
  {
   "cell_type": "code",
   "execution_count": 2,
   "metadata": {},
   "outputs": [],
   "source": [
    "def load_data(data_path):\n",
    "    df = pd.read_csv(data_path + '/patient.csv')\n",
    "    df['released_date'] = pd.to_datetime(df['released_date'])\n",
    "    df['confirmed_date'] = pd.to_datetime(df['confirmed_date'])\n",
    "    df['month'] = df['confirmed_date'].dt.month\n",
    "    df['day'] = df['confirmed_date'].dt.day\n",
    "    return df"
   ]
  },
  {
   "cell_type": "code",
   "execution_count": 3,
   "metadata": {},
   "outputs": [
    {
     "data": {
      "text/plain": [
       "id                  2067\n",
       "sex                 1851\n",
       "birth_year          1936\n",
       "country                1\n",
       "region                 1\n",
       "departement          195\n",
       "city                1804\n",
       "group               1905\n",
       "infection_reason    1906\n",
       "infection_order     2068\n",
       "infected_by         2056\n",
       "contact_number      2073\n",
       "confirmed_date         4\n",
       "released_date       2064\n",
       "deceased_date       2048\n",
       "status              1481\n",
       "health              1849\n",
       "source               199\n",
       "comments            1637\n",
       "month                  4\n",
       "day                    4\n",
       "dtype: int64"
      ]
     },
     "execution_count": 3,
     "metadata": {},
     "output_type": "execute_result"
    }
   ],
   "source": [
    "df_france = load_data('coronavirusdataset_france')\n",
    "df_france.isnull().sum()"
   ]
  },
  {
   "cell_type": "code",
   "execution_count": 4,
   "metadata": {},
   "outputs": [
    {
     "data": {
      "text/plain": [
       "patient_id             0\n",
       "sex                 7190\n",
       "birth_year          7203\n",
       "country                0\n",
       "region              7432\n",
       "disease             7841\n",
       "group               7783\n",
       "infection_reason    7715\n",
       "infection_order     7833\n",
       "infected_by         7799\n",
       "contact_number      7816\n",
       "confirmed_date         0\n",
       "released_date       7813\n",
       "deceased_date       7833\n",
       "state                  0\n",
       "month                  0\n",
       "day                    0\n",
       "dtype: int64"
      ]
     },
     "execution_count": 4,
     "metadata": {},
     "output_type": "execute_result"
    }
   ],
   "source": [
    "df_south_korea = load_data('coronavirusdataset_south_korea')\n",
    "df_south_korea.isnull().sum()"
   ]
  },
  {
   "cell_type": "markdown",
   "metadata": {},
   "source": [
    "## Resolve missing values\n",
    "\n",
    "- With the objective of keeping the necesary data, some of the columns are removed such as department, comments, health consiedered not important for the analysis. \n",
    "- From the birth date, we can create the age variable, substracting it to the actual date. The missing information will be filled with random numbers draw from a distribution. The information related to the age distribution of the population can be found:     \n",
    " *France:* https://www.indexmundi.com/france/demographics_profile.html  \n",
    " *South Korea:* https://www.indexmundi.com/south_korea/demographics_profile.html\n",
    " \n",
    "So, the 'simulate_age' function is create in order to simulate the population's age based on the available data. \n",
    " "
   ]
  },
  {
   "cell_type": "code",
   "execution_count": 5,
   "metadata": {},
   "outputs": [],
   "source": [
    "df_france.drop(['departement','region','comments', 'id', 'infected_by','health','city','source'],axis=1,inplace=True)\n",
    "df_south_korea.drop(['region','disease','patient_id','infected_by'], axis=1, inplace=True)"
   ]
  },
  {
   "cell_type": "code",
   "execution_count": 6,
   "metadata": {},
   "outputs": [],
   "source": [
    "def simulate_age(ranges, percents, total_pop):\n",
    "    simulated_pop = np.array(0)\n",
    "    for (low, high), percent in zip(ranges, percents):\n",
    "        simulated_pop = np.append(simulated_pop, \n",
    "                  np.random.randint(low=low, high=high, size=int(total_pop*percent/100)))\n",
    "    return simulated_pop"
   ]
  },
  {
   "cell_type": "code",
   "execution_count": 7,
   "metadata": {},
   "outputs": [
    {
     "data": {
      "image/png": "[encoded data removed]",
      "text/plain": [
       "<Figure size 1080x360 with 2 Axes>"
      ]
     },
     "metadata": {
      "needs_background": "light"
     },
     "output_type": "display_data"
    }
   ],
   "source": [
    "#France\n",
    "france_population = 67364357\n",
    "\n",
    "'''\n",
    "0-14 years: 18.48% \n",
    "15-24 years: 11.8% \n",
    "25-54 years: 37.48% \n",
    "55-64 years: 12.42%\n",
    "65 years and over: 19.82%\n",
    "'''\n",
    "ranges = [(0,14),(15,24),(25,54),(55,64),(65,90)]\n",
    "percents = [18.48,11.8,37.48,12.42,19.82]\n",
    "france_simulated_pop = simulate_age(ranges, percents, france_population)\n",
    "\n",
    "f, (ax1, ax2) = plt.subplots(1, 2, figsize=(15,5))\n",
    "ax1.hist(france_simulated_pop,bins=20, color='mediumaquamarine', edgecolor='k', alpha=0.5)\n",
    "ax1.set_title('France - Simulated age distribution')\n",
    "\n",
    "#South Korea\n",
    "south_korea_population = 51418097\n",
    "\n",
    "'''\n",
    "0-14 years: 13.03% \n",
    "15-24 years: 12.19%\n",
    "25-54 years: 45.13%\n",
    "55-64 years: 15.09% \n",
    "65 years and over: 14.55% \n",
    "'''\n",
    "percents = [13.03,12.19,45.13,15.09,14.55]\n",
    "south_korea_simulated_pop = simulate_age(ranges, percents, south_korea_population)\n",
    "\n",
    "ax2.hist(south_korea_simulated_pop,bins=20, color='mediumaquamarine', edgecolor='k', alpha=0.5)\n",
    "ax2.set_title('South Korea - Simulated age distribution')\n",
    "plt.show()"
   ]
  },
  {
   "cell_type": "markdown",
   "metadata": {},
   "source": [
    "Now, let's create the age column, and fill the missing values with a random value choosen from the distributions that we just simulated."
   ]
  },
  {
   "cell_type": "code",
   "execution_count": 8,
   "metadata": {},
   "outputs": [],
   "source": [
    "import math\n",
    "actual_year = pd.to_datetime('today').year\n",
    "def calculate_age(x):\n",
    "    if math.isnan(x):\n",
    "        return x\n",
    "    else:\n",
    "        return int(actual_year - x)\n",
    "\n",
    "#France\n",
    "df_france['age'] = df_france['birth_year'].apply(calculate_age)\n",
    "df_france.fillna({'age':int(random.choice(france_simulated_pop))}, inplace=True)\n",
    "df_france.drop(['birth_year'], axis=1, inplace=True)\n",
    "\n",
    "#South Korea\n",
    "df_south_korea['age'] = df_south_korea['birth_year'].apply(calculate_age)\n",
    "df_south_korea.fillna({'age':int(random.choice(south_korea_simulated_pop))}, inplace=True)\n",
    "df_south_korea.drop(['birth_year'], axis=1, inplace=True)"
   ]
  },
  {
   "cell_type": "markdown",
   "metadata": {},
   "source": [
    "For sex missing values, we can draw a random number with a value of probability based on the sex ratio for each population."
   ]
  },
  {
   "cell_type": "code",
   "execution_count": 9,
   "metadata": {},
   "outputs": [],
   "source": [
    "\n",
    "'''\n",
    "Considering m as men and w as women. \n",
    "m/w=ratio -> m=ration*w\n",
    "m+w=total_pop\n",
    "-> ratio*w +w=total_pop -> (ratio+1)*w=total_pop -> w=total_pop/(ratio+1)\n",
    "we should divide w by the total in order to get the probability of being women \n",
    "'''\n",
    "def calculate_values(ratio, total_pop):\n",
    "    w = (france_population/(1+ratio))/total_pop\n",
    "    m = 1 - w\n",
    "    return (w,m)\n",
    "\n",
    "\n",
    "# France\n",
    "# total population: 0.96 male(s)/female (2018 est.)\n",
    "w,m = calculate_values(0.96, france_population)\n",
    "#choice among 0 (woman) and 1 (man) with the calculated probabilities\n",
    "df_france['sex'] = df_france['sex'].str.lower()\n",
    "df_france[\"sex\"].replace({\"male\\xa0?\": \"male\"}, inplace=True)\n",
    "df_france.fillna({'sex': np.random.choice(['female','male'],p=[w,m])}, inplace=True)\n",
    "\n",
    "# South Korea\n",
    "# total population: 1 male(s)/female (2018 est.)\n",
    "w,m = calculate_values(1, south_korea_population)\n",
    "df_south_korea['sex'] = df_south_korea['sex'].str.lower()\n",
    "df_south_korea[\"sex\"].replace({\"male\\xa0?\": \"male\"}, inplace=True)\n",
    "df_south_korea.fillna({'sex': np.random.choice(['female','male'],p=[w,m])}, inplace=True)"
   ]
  },
  {
   "cell_type": "markdown",
   "metadata": {},
   "source": [
    "Since the status column for France's dataset and the state column for South Korea's dataset have the same meaning, we can rename the column for one of the datasets, and update the values to be the same categories."
   ]
  },
  {
   "cell_type": "code",
   "execution_count": 10,
   "metadata": {},
   "outputs": [],
   "source": [
    "df_france.rename({'status':'state'}, axis=1, inplace=True)\n",
    "df_france['state'] = df_france['state'].apply(lambda x: 'isolated' if (x=='hospital' or x=='home isolation') else x)"
   ]
  },
  {
   "cell_type": "markdown",
   "metadata": {},
   "source": [
    "- The values for the country variable that are empty will be filled with France or South Korea, respectevily.\n",
    "- A new category 'Unkown' will be created for infection_reason, group, status variables\n",
    "- A new category for infection_order is added with code 0 \n",
    "- The empty values for contact number will be filled with 0 "
   ]
  },
  {
   "cell_type": "code",
   "execution_count": 11,
   "metadata": {},
   "outputs": [],
   "source": [
    "df_france.fillna({'country':'France','infection_reason':'Unkown','group':'Unkown', \n",
    "                  'state':'Unknown','infection_order':0, 'contact_number':0} ,\n",
    "                 inplace=True)\n",
    "\n",
    "df_south_korea.fillna({'infection_reason':'Unkown','group':'Unkown', \n",
    "                       'infection_order':0, 'contact_number':0, \n",
    "                       'state':'Unknown'} ,\n",
    "                 inplace=True)"
   ]
  },
  {
   "cell_type": "markdown",
   "metadata": {},
   "source": [
    "Let's check now which are the missing values that still  need to be resolved."
   ]
  },
  {
   "cell_type": "code",
   "execution_count": 12,
   "metadata": {},
   "outputs": [
    {
     "data": {
      "text/plain": [
       "sex                    0\n",
       "country                0\n",
       "group                  0\n",
       "infection_reason       0\n",
       "infection_order        0\n",
       "contact_number         0\n",
       "confirmed_date         4\n",
       "released_date       2064\n",
       "deceased_date       2048\n",
       "state                  0\n",
       "month                  4\n",
       "day                    4\n",
       "age                    0\n",
       "dtype: int64"
      ]
     },
     "execution_count": 12,
     "metadata": {},
     "output_type": "execute_result"
    }
   ],
   "source": [
    "df_france.isnull().sum()"
   ]
  },
  {
   "cell_type": "code",
   "execution_count": 13,
   "metadata": {},
   "outputs": [
    {
     "data": {
      "text/plain": [
       "sex                    0\n",
       "country                0\n",
       "group                  0\n",
       "infection_reason       0\n",
       "infection_order        0\n",
       "contact_number         0\n",
       "confirmed_date         0\n",
       "released_date       7813\n",
       "deceased_date       7833\n",
       "state                  0\n",
       "month                  0\n",
       "day                    0\n",
       "age                    0\n",
       "dtype: int64"
      ]
     },
     "execution_count": 13,
     "metadata": {},
     "output_type": "execute_result"
    }
   ],
   "source": [
    "df_south_korea.isnull().sum()"
   ]
  },
  {
   "cell_type": "markdown",
   "metadata": {},
   "source": [
    "Nice!, we don't have too much left. \n",
    "Now we need to resolve released_date and deceased_date empty values. \n",
    "- If released_date is empty, it means that the person still has the virus. \n",
    "- If deceased_date is empty, it means that the person did not died. \n",
    "\n",
    "So, we can calculate the infection duration in days and remove the other 3 variables.  \n",
    "And transform deceased_date to a binary column, indicated if the person died or not."
   ]
  },
  {
   "cell_type": "code",
   "execution_count": 14,
   "metadata": {},
   "outputs": [],
   "source": [
    "df_france['released_date'] = df_france[['released_date','deceased_date']].fillna(df_france['deceased_date'])\n",
    "df_france['released_date'] = df_france[['released_date']].fillna(pd.to_datetime('today'))\n",
    "df_france['infection_duration'] = pd.to_datetime(df_france['released_date']).sub(df_france['confirmed_date'], axis=0)\n",
    "df_france = df_france[df_france['infection_duration'].dt.days>=0]\n",
    "df_france['infection_duration'] = df_france['infection_duration'].dt.days\n",
    "df_france.drop(['released_date','confirmed_date','deceased_date'], axis=1, inplace=True)\n",
    "\n",
    "df_south_korea['released_date'] = df_south_korea[['released_date','deceased_date']].fillna(df_south_korea['deceased_date'])\n",
    "df_south_korea['released_date'] = df_south_korea[['released_date']].fillna(pd.to_datetime('today'))\n",
    "df_south_korea['infection_duration'] = pd.to_datetime(df_south_korea['released_date']).sub(df_south_korea['confirmed_date'], axis=0)\n",
    "df_south_korea = df_south_korea[df_south_korea['infection_duration'].dt.days>=0]\n",
    "df_south_korea['infection_duration'] = df_south_korea['infection_duration'].dt.days\n",
    "df_south_korea.drop(['released_date','confirmed_date','deceased_date'], axis=1, inplace=True)"
   ]
  },
  {
   "cell_type": "code",
   "execution_count": 15,
   "metadata": {},
   "outputs": [
    {
     "data": {
      "text/plain": [
       "Index(['sex', 'country', 'group', 'infection_reason', 'infection_order',\n",
       "       'contact_number', 'state', 'month', 'day', 'age', 'infection_duration'],\n",
       "      dtype='object')"
      ]
     },
     "execution_count": 15,
     "metadata": {},
     "output_type": "execute_result"
    }
   ],
   "source": [
    "df_france.columns"
   ]
  },
  {
   "cell_type": "code",
   "execution_count": 16,
   "metadata": {},
   "outputs": [
    {
     "data": {
      "text/plain": [
       "Index(['sex', 'country', 'group', 'infection_reason', 'infection_order',\n",
       "       'contact_number', 'state', 'month', 'day', 'age', 'infection_duration'],\n",
       "      dtype='object')"
      ]
     },
     "execution_count": 16,
     "metadata": {},
     "output_type": "execute_result"
    }
   ],
   "source": [
    "df_south_korea.columns"
   ]
  },
  {
   "cell_type": "markdown",
   "metadata": {},
   "source": [
    "## Data Fusion\n",
    "Finally, we are ready to put the two datasets together and start our analysis."
   ]
  },
  {
   "cell_type": "code",
   "execution_count": 17,
   "metadata": {},
   "outputs": [],
   "source": [
    "df = df_france.append(df_south_korea, sort=False)"
   ]
  },
  {
   "cell_type": "code",
   "execution_count": 18,
   "metadata": {},
   "outputs": [
    {
     "data": {
      "text/plain": [
       "sex                   0\n",
       "country               0\n",
       "group                 0\n",
       "infection_reason      0\n",
       "infection_order       0\n",
       "contact_number        0\n",
       "state                 0\n",
       "month                 0\n",
       "day                   0\n",
       "age                   0\n",
       "infection_duration    0\n",
       "dtype: int64"
      ]
     },
     "execution_count": 18,
     "metadata": {},
     "output_type": "execute_result"
    }
   ],
   "source": [
    "df.isnull().sum()"
   ]
  },
  {
   "cell_type": "markdown",
   "metadata": {},
   "source": [
    "## Transform to dummies the categorical variables"
   ]
  },
  {
   "cell_type": "code",
   "execution_count": 19,
   "metadata": {},
   "outputs": [],
   "source": [
    "df = pd.concat([df, pd.get_dummies(df['sex'])], axis=1)\n",
    "df = pd.concat([df, pd.get_dummies(df['country'])], axis=1)\n",
    "df = pd.concat([df, pd.get_dummies(df['state'], drop_first=True)], axis=1)\n",
    "df = pd.concat([df, pd.get_dummies(df['infection_reason'], drop_first=True)], axis=1)\n",
    "df = pd.concat([df, pd.get_dummies(df['group'], drop_first=True)], axis=1)"
   ]
  },
  {
   "cell_type": "markdown",
   "metadata": {},
   "source": [
    "## Dimension reduction\n",
    "\n",
    "Since we have too many variables, it is difficult to find the pattern among the clusters. \n",
    "So, first we can reduce the number of categorical variables by groupping similar categories. \n",
    "After, we can apply a dimension reduction technique to reduce the input variables and make the model easier to interpret. "
   ]
  },
  {
   "cell_type": "code",
   "execution_count": 20,
   "metadata": {},
   "outputs": [],
   "source": [
    "df = df_france.append(df_south_korea, sort=False)"
   ]
  },
  {
   "cell_type": "markdown",
   "metadata": {},
   "source": [
    "Transform infection_reason: let's list the possible values for this variable, and group them. The, transform to dummy variables. Drop one since it is implicit from the others. "
   ]
  },
  {
   "cell_type": "code",
   "execution_count": 21,
   "metadata": {},
   "outputs": [
    {
     "data": {
      "text/plain": [
       "array(['visit to Italy', 'contact with patient',\n",
       "       'visit to Mulhouse religious gathering', 'Unkown',\n",
       "       'contact with person who visited Italy', 'visit to Egypt',\n",
       "       'unknown', 'visit to Oise', 'visit to Germany',\n",
       "       'Visit to Venise, Italy', 'contact with patient in Auray',\n",
       "       'visit to Mulhouse', 'visit to Milan', 'Italian',\n",
       "       'visit to Lombardy', 'parishioner', 'Creil military base\\xa0?',\n",
       "       'visit to Senegal', 'visit to Alsace', 'visit in Lombardy',\n",
       "       'visit to Bretagne', 'Visit in Italy',\n",
       "       'In contact with someone contamitaminated in Oise',\n",
       "       'Religious Meeting in Mulhouse', 'work in a medical environment ',\n",
       "       'Visit family in Oise', 'health professional', 'visit to Wuhan',\n",
       "       'contact with patient in Japan', 'residence in Wuhan',\n",
       "       'visit to Thailand', 'contact with patient in Singapore',\n",
       "       'visit to China', 'visit to Daegu', 'pilgrimage to Israel',\n",
       "       'contact with patient in Daegu', 'visit to Vietnam',\n",
       "       'visit to Japan', 'visit to ooo'], dtype=object)"
      ]
     },
     "execution_count": 21,
     "metadata": {},
     "output_type": "execute_result"
    }
   ],
   "source": [
    "df.infection_reason.unique()"
   ]
  },
  {
   "cell_type": "code",
   "execution_count": 22,
   "metadata": {},
   "outputs": [],
   "source": [
    "def transform_reason(value):\n",
    "    if ('religious' in value or 'parishioner' in value):\n",
    "        return 'religious'\n",
    "    elif ('visit' in value or 'residence' in value):\n",
    "        return 'visit'\n",
    "    elif ('contact' in value):\n",
    "        return 'contact'\n",
    "    elif ('medical' in value or 'health professional' in value):\n",
    "        return 'medical'\n",
    "    elif ('militar' in value):\n",
    "        return 'militar'\n",
    "    elif ('italian' in value):\n",
    "        return 'italian'\n",
    "    elif ('pilgrimage' in value):\n",
    "        return 'pilgrimage'\n",
    "    else:\n",
    "        return 'unknown'\n",
    "\n",
    "df['infection_reason'] = df['infection_reason'].str.lower()\n",
    "df['infection_reason'] = df['infection_reason'].apply(transform_reason)  \n",
    "df = pd.concat([df, pd.get_dummies(df['infection_reason'], prefix='infection_reason', prefix_sep='_')], axis=1)\n",
    "df.drop(['infection_reason_unknown'], axis=1, inplace=True)"
   ]
  },
  {
   "cell_type": "markdown",
   "metadata": {},
   "source": [
    "Since the 'group' variable provides similar information to infection_reson, it will be removed. "
   ]
  },
  {
   "cell_type": "code",
   "execution_count": 23,
   "metadata": {},
   "outputs": [],
   "source": [
    "df.drop(['group'], axis=1, inplace=True)"
   ]
  },
  {
   "cell_type": "markdown",
   "metadata": {},
   "source": [
    "Let's transform the other categorical variables to dummies: country, state and sex."
   ]
  },
  {
   "cell_type": "code",
   "execution_count": 24,
   "metadata": {},
   "outputs": [],
   "source": [
    "df = pd.concat([df, pd.get_dummies(df['country'])], axis=1)\n",
    "df = pd.concat([df, pd.get_dummies(df['state'], prefix='state', prefix_sep='_')], axis=1)\n",
    "df = pd.concat([df, pd.get_dummies(df['sex'])], axis=1)"
   ]
  },
  {
   "cell_type": "code",
   "execution_count": 25,
   "metadata": {},
   "outputs": [
    {
     "data": {
      "text/plain": [
       "PCA(copy=True, iterated_power='auto', n_components=None, random_state=0,\n",
       "    svd_solver='auto', tol=0.0, whiten=False)"
      ]
     },
     "execution_count": 25,
     "metadata": {},
     "output_type": "execute_result"
    }
   ],
   "source": [
    "features = df.drop(['country','state','sex','infection_reason'], axis=1)\n",
    "from sklearn.preprocessing import StandardScaler\n",
    "from sklearn.decomposition import PCA\n",
    "x = StandardScaler().fit_transform(features.values)\n",
    "pca = PCA(random_state=0)\n",
    "pca.fit(x)"
   ]
  },
  {
   "cell_type": "code",
   "execution_count": 26,
   "metadata": {},
   "outputs": [
    {
     "name": "stdout",
     "output_type": "stream",
     "text": [
      "It is needed 11 components to explain 80.7% variance of the data\n"
     ]
    }
   ],
   "source": [
    "#determine number of components with threshold=0.8\n",
    "n_components=np.where(np.cumsum(pca.explained_variance_ratio_)>0.8)[0][0]+1\n",
    "#explained variance\n",
    "v = round(np.cumsum(pca.explained_variance_ratio_)[n_components-1]*100,1)\n",
    "print(f'It is needed {n_components} components to explain {v}% variance of the data')"
   ]
  },
  {
   "cell_type": "code",
   "execution_count": 27,
   "metadata": {},
   "outputs": [
    {
     "data": {
      "text/html": [
       "<div>\n",
       "<style scoped>\n",
       "    .dataframe tbody tr th:only-of-type {\n",
       "        vertical-align: middle;\n",
       "    }\n",
       "\n",
       "    .dataframe tbody tr th {\n",
       "        vertical-align: top;\n",
       "    }\n",
       "\n",
       "    .dataframe thead th {\n",
       "        text-align: right;\n",
       "    }\n",
       "</style>\n",
       "<table border=\"1\" class=\"dataframe\">\n",
       "  <thead>\n",
       "    <tr style=\"text-align: right;\">\n",
       "      <th></th>\n",
       "      <th>infection_order</th>\n",
       "      <th>contact_number</th>\n",
       "      <th>month</th>\n",
       "      <th>day</th>\n",
       "      <th>age</th>\n",
       "      <th>infection_duration</th>\n",
       "      <th>infection_reason_contact</th>\n",
       "      <th>infection_reason_italian</th>\n",
       "      <th>infection_reason_medical</th>\n",
       "      <th>infection_reason_militar</th>\n",
       "      <th>...</th>\n",
       "      <th>China</th>\n",
       "      <th>France</th>\n",
       "      <th>Korea</th>\n",
       "      <th>Mongolia</th>\n",
       "      <th>state_Unknown</th>\n",
       "      <th>state_deceased</th>\n",
       "      <th>state_isolated</th>\n",
       "      <th>state_released</th>\n",
       "      <th>female</th>\n",
       "      <th>male</th>\n",
       "    </tr>\n",
       "  </thead>\n",
       "  <tbody>\n",
       "    <tr>\n",
       "      <th>PC0</th>\n",
       "      <td>0.000313</td>\n",
       "      <td>0.002011</td>\n",
       "      <td>0.164359</td>\n",
       "      <td>-0.109692</td>\n",
       "      <td>-0.362518</td>\n",
       "      <td>-0.231668</td>\n",
       "      <td>0.022051</td>\n",
       "      <td>0.001872</td>\n",
       "      <td>0.009389</td>\n",
       "      <td>0.005908</td>\n",
       "      <td>...</td>\n",
       "      <td>0.008652</td>\n",
       "      <td>0.375705</td>\n",
       "      <td>-0.375737</td>\n",
       "      <td>0.001158</td>\n",
       "      <td>0.346118</td>\n",
       "      <td>0.012852</td>\n",
       "      <td>-0.341621</td>\n",
       "      <td>0.017493</td>\n",
       "      <td>0.355894</td>\n",
       "      <td>-0.355894</td>\n",
       "    </tr>\n",
       "    <tr>\n",
       "      <th>PC1</th>\n",
       "      <td>0.055996</td>\n",
       "      <td>0.099257</td>\n",
       "      <td>-0.580662</td>\n",
       "      <td>0.554620</td>\n",
       "      <td>-0.138494</td>\n",
       "      <td>0.385469</td>\n",
       "      <td>0.181728</td>\n",
       "      <td>-0.009110</td>\n",
       "      <td>-0.004254</td>\n",
       "      <td>0.000044</td>\n",
       "      <td>...</td>\n",
       "      <td>0.119525</td>\n",
       "      <td>0.036448</td>\n",
       "      <td>-0.045283</td>\n",
       "      <td>0.022562</td>\n",
       "      <td>0.035176</td>\n",
       "      <td>0.048018</td>\n",
       "      <td>-0.085384</td>\n",
       "      <td>0.192748</td>\n",
       "      <td>0.155583</td>\n",
       "      <td>-0.155583</td>\n",
       "    </tr>\n",
       "    <tr>\n",
       "      <th>PC2</th>\n",
       "      <td>0.273378</td>\n",
       "      <td>0.375066</td>\n",
       "      <td>0.161556</td>\n",
       "      <td>-0.239386</td>\n",
       "      <td>0.029451</td>\n",
       "      <td>-0.141544</td>\n",
       "      <td>0.321081</td>\n",
       "      <td>0.001996</td>\n",
       "      <td>-0.004445</td>\n",
       "      <td>-0.004113</td>\n",
       "      <td>...</td>\n",
       "      <td>0.426962</td>\n",
       "      <td>-0.066177</td>\n",
       "      <td>0.036858</td>\n",
       "      <td>-0.023054</td>\n",
       "      <td>-0.093687</td>\n",
       "      <td>-0.034712</td>\n",
       "      <td>-0.017367</td>\n",
       "      <td>0.538551</td>\n",
       "      <td>-0.050954</td>\n",
       "      <td>0.050954</td>\n",
       "    </tr>\n",
       "    <tr>\n",
       "      <th>PC3</th>\n",
       "      <td>-0.017530</td>\n",
       "      <td>0.008290</td>\n",
       "      <td>0.024274</td>\n",
       "      <td>-0.032187</td>\n",
       "      <td>0.067533</td>\n",
       "      <td>-0.014225</td>\n",
       "      <td>0.071154</td>\n",
       "      <td>-0.004850</td>\n",
       "      <td>-0.009453</td>\n",
       "      <td>-0.030001</td>\n",
       "      <td>...</td>\n",
       "      <td>-0.000541</td>\n",
       "      <td>-0.025005</td>\n",
       "      <td>0.009331</td>\n",
       "      <td>0.635241</td>\n",
       "      <td>0.006249</td>\n",
       "      <td>0.717814</td>\n",
       "      <td>-0.165699</td>\n",
       "      <td>0.045030</td>\n",
       "      <td>-0.050514</td>\n",
       "      <td>0.050514</td>\n",
       "    </tr>\n",
       "    <tr>\n",
       "      <th>PC4</th>\n",
       "      <td>0.105852</td>\n",
       "      <td>0.024358</td>\n",
       "      <td>0.026533</td>\n",
       "      <td>-0.055370</td>\n",
       "      <td>-0.054310</td>\n",
       "      <td>0.072142</td>\n",
       "      <td>-0.175563</td>\n",
       "      <td>0.037336</td>\n",
       "      <td>-0.025956</td>\n",
       "      <td>0.119825</td>\n",
       "      <td>...</td>\n",
       "      <td>0.048528</td>\n",
       "      <td>0.057158</td>\n",
       "      <td>-0.065118</td>\n",
       "      <td>0.189143</td>\n",
       "      <td>-0.213146</td>\n",
       "      <td>0.121814</td>\n",
       "      <td>0.203885</td>\n",
       "      <td>-0.107036</td>\n",
       "      <td>0.062272</td>\n",
       "      <td>-0.062272</td>\n",
       "    </tr>\n",
       "    <tr>\n",
       "      <th>PC5</th>\n",
       "      <td>0.160085</td>\n",
       "      <td>0.025329</td>\n",
       "      <td>-0.003504</td>\n",
       "      <td>0.021405</td>\n",
       "      <td>0.017462</td>\n",
       "      <td>0.008307</td>\n",
       "      <td>-0.626502</td>\n",
       "      <td>0.033042</td>\n",
       "      <td>0.066563</td>\n",
       "      <td>-0.045489</td>\n",
       "      <td>...</td>\n",
       "      <td>0.084415</td>\n",
       "      <td>0.013829</td>\n",
       "      <td>-0.022449</td>\n",
       "      <td>0.111618</td>\n",
       "      <td>0.060181</td>\n",
       "      <td>0.005468</td>\n",
       "      <td>-0.033985</td>\n",
       "      <td>-0.118766</td>\n",
       "      <td>-0.027654</td>\n",
       "      <td>0.027654</td>\n",
       "    </tr>\n",
       "    <tr>\n",
       "      <th>PC6</th>\n",
       "      <td>-0.031212</td>\n",
       "      <td>-0.016887</td>\n",
       "      <td>-0.021907</td>\n",
       "      <td>0.033661</td>\n",
       "      <td>0.000509</td>\n",
       "      <td>-0.014009</td>\n",
       "      <td>0.038639</td>\n",
       "      <td>0.803064</td>\n",
       "      <td>0.368817</td>\n",
       "      <td>-0.337130</td>\n",
       "      <td>...</td>\n",
       "      <td>-0.002507</td>\n",
       "      <td>0.022265</td>\n",
       "      <td>-0.021741</td>\n",
       "      <td>-0.012724</td>\n",
       "      <td>-0.011971</td>\n",
       "      <td>-0.006221</td>\n",
       "      <td>0.009517</td>\n",
       "      <td>0.015761</td>\n",
       "      <td>-0.017950</td>\n",
       "      <td>0.017950</td>\n",
       "    </tr>\n",
       "    <tr>\n",
       "      <th>PC7</th>\n",
       "      <td>0.000547</td>\n",
       "      <td>0.004588</td>\n",
       "      <td>0.003136</td>\n",
       "      <td>-0.010480</td>\n",
       "      <td>0.001842</td>\n",
       "      <td>0.012689</td>\n",
       "      <td>0.022290</td>\n",
       "      <td>0.427549</td>\n",
       "      <td>-0.011023</td>\n",
       "      <td>0.884719</td>\n",
       "      <td>...</td>\n",
       "      <td>0.000655</td>\n",
       "      <td>0.004722</td>\n",
       "      <td>-0.005147</td>\n",
       "      <td>0.015675</td>\n",
       "      <td>0.000058</td>\n",
       "      <td>-0.000068</td>\n",
       "      <td>0.000182</td>\n",
       "      <td>-0.001048</td>\n",
       "      <td>-0.000808</td>\n",
       "      <td>0.000808</td>\n",
       "    </tr>\n",
       "    <tr>\n",
       "      <th>PC8</th>\n",
       "      <td>0.004261</td>\n",
       "      <td>0.003824</td>\n",
       "      <td>-0.004357</td>\n",
       "      <td>0.005202</td>\n",
       "      <td>-0.010553</td>\n",
       "      <td>-0.000059</td>\n",
       "      <td>0.025973</td>\n",
       "      <td>-0.369653</td>\n",
       "      <td>0.899589</td>\n",
       "      <td>0.204035</td>\n",
       "      <td>...</td>\n",
       "      <td>-0.003795</td>\n",
       "      <td>0.002187</td>\n",
       "      <td>-0.002282</td>\n",
       "      <td>0.014711</td>\n",
       "      <td>-0.014521</td>\n",
       "      <td>-0.000042</td>\n",
       "      <td>0.013515</td>\n",
       "      <td>0.002596</td>\n",
       "      <td>-0.007231</td>\n",
       "      <td>0.007231</td>\n",
       "    </tr>\n",
       "    <tr>\n",
       "      <th>PC9</th>\n",
       "      <td>0.035252</td>\n",
       "      <td>0.048505</td>\n",
       "      <td>0.031838</td>\n",
       "      <td>-0.045822</td>\n",
       "      <td>0.002577</td>\n",
       "      <td>0.007499</td>\n",
       "      <td>0.003805</td>\n",
       "      <td>0.177478</td>\n",
       "      <td>0.219226</td>\n",
       "      <td>-0.200495</td>\n",
       "      <td>...</td>\n",
       "      <td>0.017434</td>\n",
       "      <td>-0.010947</td>\n",
       "      <td>0.009004</td>\n",
       "      <td>0.028749</td>\n",
       "      <td>0.001361</td>\n",
       "      <td>0.009813</td>\n",
       "      <td>-0.001775</td>\n",
       "      <td>-0.007441</td>\n",
       "      <td>0.006464</td>\n",
       "      <td>-0.006464</td>\n",
       "    </tr>\n",
       "    <tr>\n",
       "      <th>PC10</th>\n",
       "      <td>0.864382</td>\n",
       "      <td>-0.063990</td>\n",
       "      <td>0.007671</td>\n",
       "      <td>0.002491</td>\n",
       "      <td>-0.019034</td>\n",
       "      <td>0.023125</td>\n",
       "      <td>0.192335</td>\n",
       "      <td>0.012010</td>\n",
       "      <td>-0.004902</td>\n",
       "      <td>-0.016608</td>\n",
       "      <td>...</td>\n",
       "      <td>-0.427531</td>\n",
       "      <td>0.014339</td>\n",
       "      <td>0.015579</td>\n",
       "      <td>-0.002966</td>\n",
       "      <td>0.017461</td>\n",
       "      <td>0.003734</td>\n",
       "      <td>0.014174</td>\n",
       "      <td>-0.148769</td>\n",
       "      <td>0.002132</td>\n",
       "      <td>-0.002132</td>\n",
       "    </tr>\n",
       "  </tbody>\n",
       "</table>\n",
       "<p>11 rows × 23 columns</p>\n",
       "</div>"
      ],
      "text/plain": [
       "      infection_order  contact_number     month       day       age  \\\n",
       "PC0          0.000313        0.002011  0.164359 -0.109692 -0.362518   \n",
       "PC1          0.055996        0.099257 -0.580662  0.554620 -0.138494   \n",
       "PC2          0.273378        0.375066  0.161556 -0.239386  0.029451   \n",
       "PC3         -0.017530        0.008290  0.024274 -0.032187  0.067533   \n",
       "PC4          0.105852        0.024358  0.026533 -0.055370 -0.054310   \n",
       "PC5          0.160085        0.025329 -0.003504  0.021405  0.017462   \n",
       "PC6         -0.031212       -0.016887 -0.021907  0.033661  0.000509   \n",
       "PC7          0.000547        0.004588  0.003136 -0.010480  0.001842   \n",
       "PC8          0.004261        0.003824 -0.004357  0.005202 -0.010553   \n",
       "PC9          0.035252        0.048505  0.031838 -0.045822  0.002577   \n",
       "PC10         0.864382       -0.063990  0.007671  0.002491 -0.019034   \n",
       "\n",
       "      infection_duration  infection_reason_contact  infection_reason_italian  \\\n",
       "PC0            -0.231668                  0.022051                  0.001872   \n",
       "PC1             0.385469                  0.181728                 -0.009110   \n",
       "PC2            -0.141544                  0.321081                  0.001996   \n",
       "PC3            -0.014225                  0.071154                 -0.004850   \n",
       "PC4             0.072142                 -0.175563                  0.037336   \n",
       "PC5             0.008307                 -0.626502                  0.033042   \n",
       "PC6            -0.014009                  0.038639                  0.803064   \n",
       "PC7             0.012689                  0.022290                  0.427549   \n",
       "PC8            -0.000059                  0.025973                 -0.369653   \n",
       "PC9             0.007499                  0.003805                  0.177478   \n",
       "PC10            0.023125                  0.192335                  0.012010   \n",
       "\n",
       "      infection_reason_medical  infection_reason_militar  ...     China  \\\n",
       "PC0                   0.009389                  0.005908  ...  0.008652   \n",
       "PC1                  -0.004254                  0.000044  ...  0.119525   \n",
       "PC2                  -0.004445                 -0.004113  ...  0.426962   \n",
       "PC3                  -0.009453                 -0.030001  ... -0.000541   \n",
       "PC4                  -0.025956                  0.119825  ...  0.048528   \n",
       "PC5                   0.066563                 -0.045489  ...  0.084415   \n",
       "PC6                   0.368817                 -0.337130  ... -0.002507   \n",
       "PC7                  -0.011023                  0.884719  ...  0.000655   \n",
       "PC8                   0.899589                  0.204035  ... -0.003795   \n",
       "PC9                   0.219226                 -0.200495  ...  0.017434   \n",
       "PC10                 -0.004902                 -0.016608  ... -0.427531   \n",
       "\n",
       "        France     Korea  Mongolia  state_Unknown  state_deceased  \\\n",
       "PC0   0.375705 -0.375737  0.001158       0.346118        0.012852   \n",
       "PC1   0.036448 -0.045283  0.022562       0.035176        0.048018   \n",
       "PC2  -0.066177  0.036858 -0.023054      -0.093687       -0.034712   \n",
       "PC3  -0.025005  0.009331  0.635241       0.006249        0.717814   \n",
       "PC4   0.057158 -0.065118  0.189143      -0.213146        0.121814   \n",
       "PC5   0.013829 -0.022449  0.111618       0.060181        0.005468   \n",
       "PC6   0.022265 -0.021741 -0.012724      -0.011971       -0.006221   \n",
       "PC7   0.004722 -0.005147  0.015675       0.000058       -0.000068   \n",
       "PC8   0.002187 -0.002282  0.014711      -0.014521       -0.000042   \n",
       "PC9  -0.010947  0.009004  0.028749       0.001361        0.009813   \n",
       "PC10  0.014339  0.015579 -0.002966       0.017461        0.003734   \n",
       "\n",
       "      state_isolated  state_released    female      male  \n",
       "PC0        -0.341621        0.017493  0.355894 -0.355894  \n",
       "PC1        -0.085384        0.192748  0.155583 -0.155583  \n",
       "PC2        -0.017367        0.538551 -0.050954  0.050954  \n",
       "PC3        -0.165699        0.045030 -0.050514  0.050514  \n",
       "PC4         0.203885       -0.107036  0.062272 -0.062272  \n",
       "PC5        -0.033985       -0.118766 -0.027654  0.027654  \n",
       "PC6         0.009517        0.015761 -0.017950  0.017950  \n",
       "PC7         0.000182       -0.001048 -0.000808  0.000808  \n",
       "PC8         0.013515        0.002596 -0.007231  0.007231  \n",
       "PC9        -0.001775       -0.007441  0.006464 -0.006464  \n",
       "PC10        0.014174       -0.148769  0.002132 -0.002132  \n",
       "\n",
       "[11 rows x 23 columns]"
      ]
     },
     "execution_count": 27,
     "metadata": {},
     "output_type": "execute_result"
    }
   ],
   "source": [
    "pca = PCA(n_components=n_components)\n",
    "pcs = pca.fit(x)\n",
    "components_name = list(range(0, n_components))\n",
    "components_name = list(map(lambda x: 'PC' + str(x), components_name))\n",
    "pd.DataFrame(data=pcs.components_, columns = features.columns, index=components_name)"
   ]
  },
  {
   "cell_type": "code",
   "execution_count": 28,
   "metadata": {},
   "outputs": [
    {
     "data": {
      "image/png": "[encoded data removed]",
      "text/plain": [
       "<Figure size 602.182x288 with 2 Axes>"
      ]
     },
     "metadata": {
      "needs_background": "light"
     },
     "output_type": "display_data"
    }
   ],
   "source": [
    "components_range = np.arange(1, n_components+1, 1)\n",
    "components_names = list(map(lambda x: 'PC' + str(x), components_range))\n",
    "plt.matshow(pcs.components_,cmap='viridis')\n",
    "plt.yticks(range(0,n_components), components_names,fontsize=10)\n",
    "plt.colorbar()\n",
    "plt.xticks(range(0,len(features.columns)),features.columns,rotation=90,ha='left')\n",
    "plt.show()"
   ]
  },
  {
   "cell_type": "markdown",
   "metadata": {},
   "source": [
    "Higer values for the variables means more influence in the principal component. Lower values, means negative influence in the principal components. \n",
    "From the matrix, one possible interpretation for the principal componentes is:\n",
    "- PC1: female who is not isolated and is not from from Korea\n",
    "- PC2: first months \n",
    "- PC3: state released\n",
    "- PC4: state deceased\n",
    "- PC5: infection reason not religiuos\n",
    "- PC6: infection reason visit and not contact \n",
    "- PC7: infection reason piligrimage\n",
    "- PC8: infection reason italian\n",
    "- PC9: infection reason medical\n",
    "- PC10: infection order not from China\n",
    "- PC11: infection order from Mongolia "
   ]
  },
  {
   "cell_type": "markdown",
   "metadata": {},
   "source": [
    "## Kmeans Clustering"
   ]
  },
  {
   "cell_type": "code",
   "execution_count": 29,
   "metadata": {},
   "outputs": [],
   "source": [
    "def elbow_test(df, n_init, max_clusters, max_iter):\n",
    "    distortions = []\n",
    "    for i in range(1, max_clusters):\n",
    "        km = KMeans(\n",
    "            n_clusters=i, init='random',\n",
    "            n_init=n_init, max_iter=max_iter,\n",
    "            tol=1e-04, random_state=0\n",
    "        )\n",
    "        km.fit(df)\n",
    "        distortions.append(km.inertia_)\n",
    "\n",
    "    plt.plot(range(1, max_clusters), distortions, marker='o')\n",
    "    plt.xlabel('Number of clusters')\n",
    "    plt.ylabel('Distortion')\n",
    "    plt.show()\n",
    "    \n",
    "    kn = KneeLocator(\n",
    "        range(1, max_clusters),\n",
    "        distortions,\n",
    "        curve='convex',\n",
    "        direction='decreasing',\n",
    "        interp_method='interp1d',\n",
    "    )\n",
    "    return kn.knee\n",
    "\n",
    "def plot_countries(df, title, country_column_name, column_name, n_clusters, legend=False):\n",
    "    world = geopandas.read_file(geopandas.datasets.get_path('naturalearth_lowres'))\n",
    "    merged_inner = pd.merge(left=world, right=df, left_on='name',right_on=country_column_name, how='inner')\n",
    "    cmap = cm.get_cmap('Spectral', n_clusters)\n",
    "    ax = world.plot(figsize=(20,5), linewidth=0.25, edgecolor='white', color='lightgrey')\n",
    "    ax.set_title(title)\n",
    "    \n",
    "    merged_inner.plot(column=column_name, ax=ax, cmap=cmap, legend=legend)\n",
    "    plt.show()"
   ]
  },
  {
   "cell_type": "code",
   "execution_count": 30,
   "metadata": {},
   "outputs": [],
   "source": [
    "def draw_scatter(df, col_1, col_2, cluster_column, num_clusters, title):\n",
    "    fig = plt.figure(figsize=(10,10))\n",
    "    ax = fig.add_subplot(111)\n",
    "    ax.set_title(title)\n",
    "    ax.set_xlabel(col_1)\n",
    "    ax.set_ylabel(col_2)\n",
    "    labels = list(range(0,num_clusters))\n",
    "    colors = plt.cm.Spectral(np.linspace(0, 1, num_clusters))\n",
    "    axs = []\n",
    "    for i in labels:\n",
    "        axs.append(ax.scatter(df[df[cluster_column]==i][col_1], df[df[cluster_column]==i][col_2], cmap=colors[i]))\n",
    "    \n",
    "    ax.legend(axs, labels, loc='center', bbox_to_anchor=(0.92, 0.84), ncol=1)\n",
    "    plt.show()\n"
   ]
  },
  {
   "cell_type": "code",
   "execution_count": 63,
   "metadata": {},
   "outputs": [],
   "source": [
    "def create_3d_scatter(df, col_1, col_2, col_3, cluster_column, num_clusters, title):\n",
    "    fig = plt.figure()\n",
    "    ax = fig.add_subplot(111, projection='3d')\n",
    "    ax.set_title(title)\n",
    "    ax.set_xlabel(col_1)\n",
    "    ax.set_ylabel(col_2)\n",
    "    ax.set_zlabel(col_3, rotation=90)\n",
    "    labels = list(range(0,num_clusters))\n",
    "    colors = plt.cm.Spectral(np.linspace(0, 1, num_clusters))\n",
    "    axs = []\n",
    "    for i in labels:\n",
    "        d = df[df[cluster_column]==i]\n",
    "        axs.append(ax.scatter(d[col_1], d[col_2], d[col_3], cmap=colors[i]))\n",
    "    \n",
    "    ax.legend(axs, labels, bbox_to_anchor=(0.2, 0.5), ncol=1)\n",
    "    ax.set_xticklabels([])\n",
    "    ax.set_yticklabels([])\n",
    "    ax.set_zticklabels([])\n",
    "    plt.show()"
   ]
  },
  {
   "cell_type": "markdown",
   "metadata": {},
   "source": [
    "Now, we can create a dataframe from the principal components scores and use that for the clustering analysis. "
   ]
  },
  {
   "cell_type": "code",
   "execution_count": 32,
   "metadata": {},
   "outputs": [
    {
     "data": {
      "text/html": [
       "<div>\n",
       "<style scoped>\n",
       "    .dataframe tbody tr th:only-of-type {\n",
       "        vertical-align: middle;\n",
       "    }\n",
       "\n",
       "    .dataframe tbody tr th {\n",
       "        vertical-align: top;\n",
       "    }\n",
       "\n",
       "    .dataframe thead th {\n",
       "        text-align: right;\n",
       "    }\n",
       "</style>\n",
       "<table border=\"1\" class=\"dataframe\">\n",
       "  <thead>\n",
       "    <tr style=\"text-align: right;\">\n",
       "      <th></th>\n",
       "      <th>PC1</th>\n",
       "      <th>PC2</th>\n",
       "      <th>PC3</th>\n",
       "      <th>PC4</th>\n",
       "      <th>PC5</th>\n",
       "      <th>PC6</th>\n",
       "      <th>PC7</th>\n",
       "      <th>PC8</th>\n",
       "      <th>PC9</th>\n",
       "      <th>PC10</th>\n",
       "      <th>PC11</th>\n",
       "    </tr>\n",
       "  </thead>\n",
       "  <tbody>\n",
       "    <tr>\n",
       "      <th>0</th>\n",
       "      <td>1.059472</td>\n",
       "      <td>3.513273</td>\n",
       "      <td>1.464889</td>\n",
       "      <td>-1.455087</td>\n",
       "      <td>2.705207</td>\n",
       "      <td>5.568130</td>\n",
       "      <td>-0.057158</td>\n",
       "      <td>-0.195967</td>\n",
       "      <td>-0.171871</td>\n",
       "      <td>-0.554705</td>\n",
       "      <td>-0.222318</td>\n",
       "    </tr>\n",
       "    <tr>\n",
       "      <th>1</th>\n",
       "      <td>2.717916</td>\n",
       "      <td>4.516494</td>\n",
       "      <td>1.656921</td>\n",
       "      <td>0.052435</td>\n",
       "      <td>-1.002277</td>\n",
       "      <td>-5.719822</td>\n",
       "      <td>0.444839</td>\n",
       "      <td>0.199956</td>\n",
       "      <td>0.253590</td>\n",
       "      <td>-0.119166</td>\n",
       "      <td>1.790706</td>\n",
       "    </tr>\n",
       "    <tr>\n",
       "      <th>2</th>\n",
       "      <td>3.578644</td>\n",
       "      <td>2.351183</td>\n",
       "      <td>9.739963</td>\n",
       "      <td>-0.255928</td>\n",
       "      <td>0.750338</td>\n",
       "      <td>4.065488</td>\n",
       "      <td>0.033227</td>\n",
       "      <td>-0.218424</td>\n",
       "      <td>-0.197499</td>\n",
       "      <td>-0.488484</td>\n",
       "      <td>-2.214711</td>\n",
       "    </tr>\n",
       "    <tr>\n",
       "      <th>3</th>\n",
       "      <td>2.329593</td>\n",
       "      <td>-0.928801</td>\n",
       "      <td>-0.320921</td>\n",
       "      <td>-1.921924</td>\n",
       "      <td>11.840304</td>\n",
       "      <td>-5.133909</td>\n",
       "      <td>1.103658</td>\n",
       "      <td>-2.065465</td>\n",
       "      <td>0.407895</td>\n",
       "      <td>-0.723641</td>\n",
       "      <td>-0.681592</td>\n",
       "    </tr>\n",
       "    <tr>\n",
       "      <th>4</th>\n",
       "      <td>4.002959</td>\n",
       "      <td>-0.197268</td>\n",
       "      <td>-0.560500</td>\n",
       "      <td>-2.159434</td>\n",
       "      <td>12.133098</td>\n",
       "      <td>-5.263934</td>\n",
       "      <td>1.019260</td>\n",
       "      <td>-2.069263</td>\n",
       "      <td>0.373895</td>\n",
       "      <td>-0.693249</td>\n",
       "      <td>-0.671565</td>\n",
       "    </tr>\n",
       "  </tbody>\n",
       "</table>\n",
       "</div>"
      ],
      "text/plain": [
       "        PC1       PC2       PC3       PC4        PC5       PC6       PC7  \\\n",
       "0  1.059472  3.513273  1.464889 -1.455087   2.705207  5.568130 -0.057158   \n",
       "1  2.717916  4.516494  1.656921  0.052435  -1.002277 -5.719822  0.444839   \n",
       "2  3.578644  2.351183  9.739963 -0.255928   0.750338  4.065488  0.033227   \n",
       "3  2.329593 -0.928801 -0.320921 -1.921924  11.840304 -5.133909  1.103658   \n",
       "4  4.002959 -0.197268 -0.560500 -2.159434  12.133098 -5.263934  1.019260   \n",
       "\n",
       "        PC8       PC9      PC10      PC11  \n",
       "0 -0.195967 -0.171871 -0.554705 -0.222318  \n",
       "1  0.199956  0.253590 -0.119166  1.790706  \n",
       "2 -0.218424 -0.197499 -0.488484 -2.214711  \n",
       "3 -2.065465  0.407895 -0.723641 -0.681592  \n",
       "4 -2.069263  0.373895 -0.693249 -0.671565  "
      ]
     },
     "execution_count": 32,
     "metadata": {},
     "output_type": "execute_result"
    }
   ],
   "source": [
    "pca_df = pd.DataFrame(data = pca.fit_transform(x), columns = components_names)\n",
    "pca_df.head()"
   ]
  },
  {
   "cell_type": "markdown",
   "metadata": {},
   "source": [
    "Use the elbow test in order to define the optimal number of clusters."
   ]
  },
  {
   "cell_type": "code",
   "execution_count": 33,
   "metadata": {},
   "outputs": [
    {
     "data": {
      "image/png": "[encoded data removed]",
      "text/plain": [
       "<Figure size 432x288 with 1 Axes>"
      ]
     },
     "metadata": {
      "needs_background": "light"
     },
     "output_type": "display_data"
    },
    {
     "name": "stdout",
     "output_type": "stream",
     "text": [
      "6\n"
     ]
    }
   ],
   "source": [
    "n_clusters = elbow_test(pca_df, 10, 20, 300)\n",
    "print(n_clusters)"
   ]
  },
  {
   "cell_type": "code",
   "execution_count": 168,
   "metadata": {},
   "outputs": [],
   "source": [
    "km = KMeans(n_clusters=n_clusters, random_state=0)\n",
    "y = km.fit_predict(pca_df)\n",
    "idx = np.argsort(km.cluster_centers_.sum(axis=1))\n",
    "lut = np.zeros_like(idx)\n",
    "lut[idx] = np.arange(n_clusters)\n",
    "pca_df['cluster'] = lut[km.labels_]\n",
    "df['cluster'] = lut[km.labels_]"
   ]
  },
  {
   "cell_type": "code",
   "execution_count": null,
   "metadata": {},
   "outputs": [],
   "source": [
    "We can see that clusters 5 has only 2 elements. "
   ]
  },
  {
   "cell_type": "code",
   "execution_count": 170,
   "metadata": {
    "scrolled": true
   },
   "outputs": [
    {
     "data": {
      "text/html": [
       "<div>\n",
       "<style scoped>\n",
       "    .dataframe tbody tr th:only-of-type {\n",
       "        vertical-align: middle;\n",
       "    }\n",
       "\n",
       "    .dataframe tbody tr th {\n",
       "        vertical-align: top;\n",
       "    }\n",
       "\n",
       "    .dataframe thead th {\n",
       "        text-align: right;\n",
       "    }\n",
       "</style>\n",
       "<table border=\"1\" class=\"dataframe\">\n",
       "  <thead>\n",
       "    <tr style=\"text-align: right;\">\n",
       "      <th></th>\n",
       "      <th>PC1</th>\n",
       "      <th>PC2</th>\n",
       "      <th>PC3</th>\n",
       "      <th>PC4</th>\n",
       "      <th>PC5</th>\n",
       "      <th>PC6</th>\n",
       "      <th>PC7</th>\n",
       "      <th>PC8</th>\n",
       "      <th>PC9</th>\n",
       "      <th>PC10</th>\n",
       "      <th>PC11</th>\n",
       "      <th>cluster</th>\n",
       "    </tr>\n",
       "  </thead>\n",
       "  <tbody>\n",
       "    <tr>\n",
       "      <th>1270</th>\n",
       "      <td>4.129863</td>\n",
       "      <td>-0.435195</td>\n",
       "      <td>-0.506389</td>\n",
       "      <td>-1.119166</td>\n",
       "      <td>-1.183869</td>\n",
       "      <td>4.596734</td>\n",
       "      <td>26.000275</td>\n",
       "      <td>-0.771787</td>\n",
       "      <td>63.414064</td>\n",
       "      <td>15.450607</td>\n",
       "      <td>-0.327594</td>\n",
       "      <td>5</td>\n",
       "    </tr>\n",
       "    <tr>\n",
       "      <th>1947</th>\n",
       "      <td>4.502095</td>\n",
       "      <td>-0.929643</td>\n",
       "      <td>-0.462228</td>\n",
       "      <td>-0.414522</td>\n",
       "      <td>-2.709949</td>\n",
       "      <td>4.989919</td>\n",
       "      <td>26.049687</td>\n",
       "      <td>-0.782688</td>\n",
       "      <td>63.372603</td>\n",
       "      <td>15.404830</td>\n",
       "      <td>-0.344841</td>\n",
       "      <td>5</td>\n",
       "    </tr>\n",
       "  </tbody>\n",
       "</table>\n",
       "</div>"
      ],
      "text/plain": [
       "           PC1       PC2       PC3       PC4       PC5       PC6        PC7  \\\n",
       "1270  4.129863 -0.435195 -0.506389 -1.119166 -1.183869  4.596734  26.000275   \n",
       "1947  4.502095 -0.929643 -0.462228 -0.414522 -2.709949  4.989919  26.049687   \n",
       "\n",
       "           PC8        PC9       PC10      PC11  cluster  \n",
       "1270 -0.771787  63.414064  15.450607 -0.327594        5  \n",
       "1947 -0.782688  63.372603  15.404830 -0.344841        5  "
      ]
     },
     "execution_count": 170,
     "metadata": {},
     "output_type": "execute_result"
    }
   ],
   "source": [
    "pca_df[pca_df['cluster']==5]"
   ]
  },
  {
   "cell_type": "markdown",
   "metadata": {},
   "source": [
    "We can see that the PC9 value is high. It corresponds to the infection reason 'medical'. We can corroborate this by looking at the actual data:  "
   ]
  },
  {
   "cell_type": "code",
   "execution_count": 172,
   "metadata": {},
   "outputs": [
    {
     "data": {
      "text/html": [
       "<div>\n",
       "<style scoped>\n",
       "    .dataframe tbody tr th:only-of-type {\n",
       "        vertical-align: middle;\n",
       "    }\n",
       "\n",
       "    .dataframe tbody tr th {\n",
       "        vertical-align: top;\n",
       "    }\n",
       "\n",
       "    .dataframe thead th {\n",
       "        text-align: right;\n",
       "    }\n",
       "</style>\n",
       "<table border=\"1\" class=\"dataframe\">\n",
       "  <thead>\n",
       "    <tr style=\"text-align: right;\">\n",
       "      <th></th>\n",
       "      <th>sex</th>\n",
       "      <th>country</th>\n",
       "      <th>infection_reason</th>\n",
       "      <th>infection_order</th>\n",
       "      <th>contact_number</th>\n",
       "      <th>state</th>\n",
       "      <th>month</th>\n",
       "      <th>day</th>\n",
       "      <th>age</th>\n",
       "      <th>infection_duration</th>\n",
       "      <th>...</th>\n",
       "      <th>France</th>\n",
       "      <th>Korea</th>\n",
       "      <th>Mongolia</th>\n",
       "      <th>state_Unknown</th>\n",
       "      <th>state_deceased</th>\n",
       "      <th>state_isolated</th>\n",
       "      <th>state_released</th>\n",
       "      <th>female</th>\n",
       "      <th>male</th>\n",
       "      <th>cluster</th>\n",
       "    </tr>\n",
       "  </thead>\n",
       "  <tbody>\n",
       "    <tr>\n",
       "      <th>1271</th>\n",
       "      <td>female</td>\n",
       "      <td>France</td>\n",
       "      <td>medical</td>\n",
       "      <td>0.0</td>\n",
       "      <td>0.0</td>\n",
       "      <td>isolated</td>\n",
       "      <td>3.0</td>\n",
       "      <td>7.0</td>\n",
       "      <td>18.0</td>\n",
       "      <td>11</td>\n",
       "      <td>...</td>\n",
       "      <td>1</td>\n",
       "      <td>0</td>\n",
       "      <td>0</td>\n",
       "      <td>0</td>\n",
       "      <td>0</td>\n",
       "      <td>1</td>\n",
       "      <td>0</td>\n",
       "      <td>1</td>\n",
       "      <td>0</td>\n",
       "      <td>5</td>\n",
       "    </tr>\n",
       "    <tr>\n",
       "      <th>1951</th>\n",
       "      <td>male</td>\n",
       "      <td>France</td>\n",
       "      <td>medical</td>\n",
       "      <td>0.0</td>\n",
       "      <td>0.0</td>\n",
       "      <td>Unknown</td>\n",
       "      <td>3.0</td>\n",
       "      <td>11.0</td>\n",
       "      <td>18.0</td>\n",
       "      <td>7</td>\n",
       "      <td>...</td>\n",
       "      <td>1</td>\n",
       "      <td>0</td>\n",
       "      <td>0</td>\n",
       "      <td>1</td>\n",
       "      <td>0</td>\n",
       "      <td>0</td>\n",
       "      <td>0</td>\n",
       "      <td>0</td>\n",
       "      <td>1</td>\n",
       "      <td>5</td>\n",
       "    </tr>\n",
       "  </tbody>\n",
       "</table>\n",
       "<p>2 rows × 28 columns</p>\n",
       "</div>"
      ],
      "text/plain": [
       "         sex country infection_reason  infection_order  contact_number  \\\n",
       "1271  female  France          medical              0.0             0.0   \n",
       "1951    male  France          medical              0.0             0.0   \n",
       "\n",
       "         state  month   day   age  infection_duration  ...  France  Korea  \\\n",
       "1271  isolated    3.0   7.0  18.0                  11  ...       1      0   \n",
       "1951   Unknown    3.0  11.0  18.0                   7  ...       1      0   \n",
       "\n",
       "      Mongolia  state_Unknown  state_deceased  state_isolated  state_released  \\\n",
       "1271         0              0               0               1               0   \n",
       "1951         0              1               0               0               0   \n",
       "\n",
       "      female  male  cluster  \n",
       "1271       1     0        5  \n",
       "1951       0     1        5  \n",
       "\n",
       "[2 rows x 28 columns]"
      ]
     },
     "execution_count": 172,
     "metadata": {},
     "output_type": "execute_result"
    }
   ],
   "source": [
    "df[df['cluster']==5]"
   ]
  },
  {
   "cell_type": "markdown",
   "metadata": {},
   "source": [
    "For cluster 2, PC7 is really high. Which makes sense that is a small cluster since PC7 corresponds to infection reason pilgrimage, and there are few cases in the data frame. We can list those cases:"
   ]
  },
  {
   "cell_type": "markdown",
   "metadata": {},
   "source": [
    "For the cluster 3, it has high PC9. Which corresponds to infection reason 'medical'."
   ]
  },
  {
   "cell_type": "code",
   "execution_count": 183,
   "metadata": {},
   "outputs": [
    {
     "data": {
      "image/png": "[encoded data removed]",
      "text/plain": [
       "<Figure size 432x288 with 1 Axes>"
      ]
     },
     "metadata": {
      "needs_background": "light"
     },
     "output_type": "display_data"
    }
   ],
   "source": [
    "create_3d_scatter(pca_df, 'PC1', 'PC2', 'PC3', 'cluster', n_clusters, '')"
   ]
  },
  {
   "cell_type": "markdown",
   "metadata": {},
   "source": [
    "From the graph we can see that some of the clusters are distributed according the first 3 principal components.  \n",
    "However, In this graph, cluster 3 and 4 are not well defined. \n",
    "\n",
    "| Cluster | PC1  |  PC2  | PC3  |\n",
    "| --------|-----:| -----:|-----:|\n",
    "| 0       | low  |  low  | low  |\n",
    "| 1       | low  |middle | low  |\n",
    "| 2       | high |middle | low  |\n",
    "\n",
    "\n",
    "So, let's graph other components, to see if we can find the meaning of cluster 4. For this we can draw a scatter plot. "
   ]
  },
  {
   "cell_type": "code",
   "execution_count": 196,
   "metadata": {},
   "outputs": [
    {
     "data": {
      "image/png": "[encoded data removed]",
      "text/plain": [
       "<Figure size 720x720 with 1 Axes>"
      ]
     },
     "metadata": {
      "needs_background": "light"
     },
     "output_type": "display_data"
    }
   ],
   "source": [
    "draw_scatter(pca_df, 'PC3', 'PC5', 'cluster', n_clusters, '')"
   ]
  },
  {
   "cell_type": "markdown",
   "metadata": {},
   "source": [
    "From the scatterplot, we can see that the PC3 values for cluster 4 are bigger than the rest. PC3 referes to  state released. "
   ]
  },
  {
   "cell_type": "code",
   "execution_count": 203,
   "metadata": {},
   "outputs": [
    {
     "data": {
      "text/plain": [
       "array([0.00e+00, 4.50e+01, 7.50e+01, 1.60e+01, 9.50e+01, 3.10e+01,\n",
       "       1.70e+01, 9.00e+00, 1.13e+02, 2.00e+00, 4.30e+01, 4.22e+02,\n",
       "       3.00e+00, 1.50e+01, 4.50e+02, 2.90e+02, 8.00e+00, 6.80e+01,\n",
       "       6.00e+00, 1.00e+00, 2.30e+01, 1.20e+01, 4.00e+01, 1.17e+02,\n",
       "       1.16e+03, 4.70e+01, 7.40e+01])"
      ]
     },
     "execution_count": 203,
     "metadata": {},
     "output_type": "execute_result"
    }
   ],
   "source": [
    "df[df['cluster']==4].contact_number.unique()"
   ]
  },
  {
   "cell_type": "code",
   "execution_count": 198,
   "metadata": {},
   "outputs": [
    {
     "data": {
      "text/plain": [
       "array(['religious'], dtype=object)"
      ]
     },
     "execution_count": 198,
     "metadata": {},
     "output_type": "execute_result"
    }
   ],
   "source": [
    "df[df['cluster']==3].infection_reason.unique()"
   ]
  }
 ],
 "metadata": {
  "hide_input": false,
  "kernelspec": {
   "display_name": "Python 3",
   "language": "python",
   "name": "python3"
  },
  "language_info": {
   "codemirror_mode": {
    "name": "ipython",
    "version": 3
   },
   "file_extension": ".py",
   "mimetype": "text/x-python",
   "name": "python",
   "nbconvert_exporter": "python",
   "pygments_lexer": "ipython3",
   "version": "3.6.9"
  },
  "toc": {
   "base_numbering": 1,
   "nav_menu": {},
   "number_sections": true,
   "sideBar": true,
   "skip_h1_title": false,
   "title_cell": "Table of Contents",
   "title_sidebar": "Contents",
   "toc_cell": false,
   "toc_position": {
    "height": "calc(100% - 180px)",
    "left": "10px",
    "top": "150px",
    "width": "288px"
   },
   "toc_section_display": true,
   "toc_window_display": true
  }
 },
 "nbformat": 4,
 "nbformat_minor": 4
}
